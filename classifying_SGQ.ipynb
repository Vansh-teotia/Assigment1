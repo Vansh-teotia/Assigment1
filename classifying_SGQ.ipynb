{
  "nbformat": 4,
  "nbformat_minor": 0,
  "metadata": {
    "colab": {
      "provenance": [],
      "authorship_tag": "ABX9TyPdYTVjuPY5iPx+9VJyjEFu",
      "include_colab_link": true
    },
    "kernelspec": {
      "name": "python3",
      "display_name": "Python 3"
    },
    "language_info": {
      "name": "python"
    }
  },
  "cells": [
    {
      "cell_type": "markdown",
      "metadata": {
        "id": "view-in-github",
        "colab_type": "text"
      },
      "source": [
        "<a href=\"https://colab.research.google.com/github/Vansh-teotia/Assigment1/blob/main/classifying_SGQ.ipynb\" target=\"_parent\"><img src=\"https://colab.research.google.com/assets/colab-badge.svg\" alt=\"Open In Colab\"/></a>"
      ]
    },
    {
      "cell_type": "code",
      "execution_count": null,
      "metadata": {
        "id": "VuPmgkgxwjNM"
      },
      "outputs": [],
      "source": [
        "# This Python 3 environment comes with many helpful analytics libraries installed\n",
        "# It is defined by the kaggle/python docker image: https://github.com/kaggle/docker-python\n",
        "# For example, here's several helpful packages to load in \n",
        "\n",
        "import numpy as np # linear algebra\n",
        "import pandas as pd # data processing, CSV file I/O (e.g. pd.read_csv)\n",
        "\n",
        "# Input data files are available in the \"../input/\" directory.\n",
        "# For example, running this (by clicking run or pressing Shift+Enter) will list all files under the input directory\n",
        "\n",
        "#import os\n",
        "#for dirname, _, filenames in os.walk('/kaggle/input'):\n",
        "    #for filename in filenames:\n",
        "        #print(os.path.join(dirname, filename))\n",
        "\n",
        "# Any results you write to the current directory are saved as output.\n"
      ]
    },
    {
      "cell_type": "code",
      "source": [
        "import tensorflow as tf\n",
        "import matplotlib.pyplot as plt\n",
        "import seaborn as sns\n",
        "from sklearn.model_selection import train_test_split\n",
        "from sklearn.preprocessing import LabelEncoder\n",
        "from sklearn.metrics import precision_score, recall_score, f1_score , accuracy_score\n",
        "from sklearn.tree import DecisionTreeClassifier\n",
        "from sklearn.linear_model import LogisticRegression\n",
        "from sklearn.naive_bayes import MultinomialNB\n",
        "from sklearn.neighbors import KNeighborsClassifier\n",
        "from sklearn.svm import SVC\n",
        "from tensorflow import keras\n",
        "%matplotlib inline"
      ],
      "metadata": {
        "id": "m8BpiDUNw9sQ"
      },
      "execution_count": null,
      "outputs": []
    },
    {
      "cell_type": "code",
      "source": [
        "from google.colab import drive\n",
        "drive.mount('/content/gdrive')"
      ],
      "metadata": {
        "colab": {
          "base_uri": "https://localhost:8080/"
        },
        "id": "Ohq5xAFGVmkp",
        "outputId": "37b7c870-9dff-49f6-b9ba-e1da2dabc146"
      },
      "execution_count": null,
      "outputs": [
        {
          "output_type": "stream",
          "name": "stdout",
          "text": [
            "Mounted at /content/gdrive\n"
          ]
        }
      ]
    },
    {
      "cell_type": "code",
      "source": [
        "\n",
        "data1 = pd.read_csv(\"/content/gdrive/MyDrive/Skyserver_SQL2_27_2018 6_51_39 PM.csv.zip\")"
      ],
      "metadata": {
        "id": "V6_RBoceWXNn"
      },
      "execution_count": null,
      "outputs": []
    },
    {
      "cell_type": "code",
      "source": [
        "data1.head()"
      ],
      "metadata": {
        "colab": {
          "base_uri": "https://localhost:8080/",
          "height": 206
        },
        "id": "lRxetgQDWv6v",
        "outputId": "74dda1e0-2d3c-4eed-cb5f-dd11eaf0b0d0"
      },
      "execution_count": null,
      "outputs": [
        {
          "output_type": "execute_result",
          "data": {
            "text/plain": [
              "          objid          ra       dec         u         g         r         i  \\\n",
              "0  1.237650e+18  183.531326  0.089693  19.47406  17.04240  15.94699  15.50342   \n",
              "1  1.237650e+18  183.598370  0.135285  18.66280  17.21449  16.67637  16.48922   \n",
              "2  1.237650e+18  183.680207  0.126185  19.38298  18.19169  17.47428  17.08732   \n",
              "3  1.237650e+18  183.870529  0.049911  17.76536  16.60272  16.16116  15.98233   \n",
              "4  1.237650e+18  183.883288  0.102557  17.55025  16.26342  16.43869  16.55492   \n",
              "\n",
              "          z  run  rerun  camcol  field     specobjid   class  redshift  plate  \\\n",
              "0  15.22531  752    301       4    267  3.722360e+18    STAR -0.000009   3306   \n",
              "1  16.39150  752    301       4    267  3.638140e+17    STAR -0.000055    323   \n",
              "2  16.80125  752    301       4    268  3.232740e+17  GALAXY  0.123111    287   \n",
              "3  15.90438  752    301       4    269  3.722370e+18    STAR -0.000111   3306   \n",
              "4  16.61326  752    301       4    269  3.722370e+18    STAR  0.000590   3306   \n",
              "\n",
              "     mjd  fiberid  \n",
              "0  54922      491  \n",
              "1  51615      541  \n",
              "2  52023      513  \n",
              "3  54922      510  \n",
              "4  54922      512  "
            ],
            "text/html": [
              "\n",
              "  <div id=\"df-87a1ef7f-b5a7-42cc-add0-12d59e92a7a3\">\n",
              "    <div class=\"colab-df-container\">\n",
              "      <div>\n",
              "<style scoped>\n",
              "    .dataframe tbody tr th:only-of-type {\n",
              "        vertical-align: middle;\n",
              "    }\n",
              "\n",
              "    .dataframe tbody tr th {\n",
              "        vertical-align: top;\n",
              "    }\n",
              "\n",
              "    .dataframe thead th {\n",
              "        text-align: right;\n",
              "    }\n",
              "</style>\n",
              "<table border=\"1\" class=\"dataframe\">\n",
              "  <thead>\n",
              "    <tr style=\"text-align: right;\">\n",
              "      <th></th>\n",
              "      <th>objid</th>\n",
              "      <th>ra</th>\n",
              "      <th>dec</th>\n",
              "      <th>u</th>\n",
              "      <th>g</th>\n",
              "      <th>r</th>\n",
              "      <th>i</th>\n",
              "      <th>z</th>\n",
              "      <th>run</th>\n",
              "      <th>rerun</th>\n",
              "      <th>camcol</th>\n",
              "      <th>field</th>\n",
              "      <th>specobjid</th>\n",
              "      <th>class</th>\n",
              "      <th>redshift</th>\n",
              "      <th>plate</th>\n",
              "      <th>mjd</th>\n",
              "      <th>fiberid</th>\n",
              "    </tr>\n",
              "  </thead>\n",
              "  <tbody>\n",
              "    <tr>\n",
              "      <th>0</th>\n",
              "      <td>1.237650e+18</td>\n",
              "      <td>183.531326</td>\n",
              "      <td>0.089693</td>\n",
              "      <td>19.47406</td>\n",
              "      <td>17.04240</td>\n",
              "      <td>15.94699</td>\n",
              "      <td>15.50342</td>\n",
              "      <td>15.22531</td>\n",
              "      <td>752</td>\n",
              "      <td>301</td>\n",
              "      <td>4</td>\n",
              "      <td>267</td>\n",
              "      <td>3.722360e+18</td>\n",
              "      <td>STAR</td>\n",
              "      <td>-0.000009</td>\n",
              "      <td>3306</td>\n",
              "      <td>54922</td>\n",
              "      <td>491</td>\n",
              "    </tr>\n",
              "    <tr>\n",
              "      <th>1</th>\n",
              "      <td>1.237650e+18</td>\n",
              "      <td>183.598370</td>\n",
              "      <td>0.135285</td>\n",
              "      <td>18.66280</td>\n",
              "      <td>17.21449</td>\n",
              "      <td>16.67637</td>\n",
              "      <td>16.48922</td>\n",
              "      <td>16.39150</td>\n",
              "      <td>752</td>\n",
              "      <td>301</td>\n",
              "      <td>4</td>\n",
              "      <td>267</td>\n",
              "      <td>3.638140e+17</td>\n",
              "      <td>STAR</td>\n",
              "      <td>-0.000055</td>\n",
              "      <td>323</td>\n",
              "      <td>51615</td>\n",
              "      <td>541</td>\n",
              "    </tr>\n",
              "    <tr>\n",
              "      <th>2</th>\n",
              "      <td>1.237650e+18</td>\n",
              "      <td>183.680207</td>\n",
              "      <td>0.126185</td>\n",
              "      <td>19.38298</td>\n",
              "      <td>18.19169</td>\n",
              "      <td>17.47428</td>\n",
              "      <td>17.08732</td>\n",
              "      <td>16.80125</td>\n",
              "      <td>752</td>\n",
              "      <td>301</td>\n",
              "      <td>4</td>\n",
              "      <td>268</td>\n",
              "      <td>3.232740e+17</td>\n",
              "      <td>GALAXY</td>\n",
              "      <td>0.123111</td>\n",
              "      <td>287</td>\n",
              "      <td>52023</td>\n",
              "      <td>513</td>\n",
              "    </tr>\n",
              "    <tr>\n",
              "      <th>3</th>\n",
              "      <td>1.237650e+18</td>\n",
              "      <td>183.870529</td>\n",
              "      <td>0.049911</td>\n",
              "      <td>17.76536</td>\n",
              "      <td>16.60272</td>\n",
              "      <td>16.16116</td>\n",
              "      <td>15.98233</td>\n",
              "      <td>15.90438</td>\n",
              "      <td>752</td>\n",
              "      <td>301</td>\n",
              "      <td>4</td>\n",
              "      <td>269</td>\n",
              "      <td>3.722370e+18</td>\n",
              "      <td>STAR</td>\n",
              "      <td>-0.000111</td>\n",
              "      <td>3306</td>\n",
              "      <td>54922</td>\n",
              "      <td>510</td>\n",
              "    </tr>\n",
              "    <tr>\n",
              "      <th>4</th>\n",
              "      <td>1.237650e+18</td>\n",
              "      <td>183.883288</td>\n",
              "      <td>0.102557</td>\n",
              "      <td>17.55025</td>\n",
              "      <td>16.26342</td>\n",
              "      <td>16.43869</td>\n",
              "      <td>16.55492</td>\n",
              "      <td>16.61326</td>\n",
              "      <td>752</td>\n",
              "      <td>301</td>\n",
              "      <td>4</td>\n",
              "      <td>269</td>\n",
              "      <td>3.722370e+18</td>\n",
              "      <td>STAR</td>\n",
              "      <td>0.000590</td>\n",
              "      <td>3306</td>\n",
              "      <td>54922</td>\n",
              "      <td>512</td>\n",
              "    </tr>\n",
              "  </tbody>\n",
              "</table>\n",
              "</div>\n",
              "      <button class=\"colab-df-convert\" onclick=\"convertToInteractive('df-87a1ef7f-b5a7-42cc-add0-12d59e92a7a3')\"\n",
              "              title=\"Convert this dataframe to an interactive table.\"\n",
              "              style=\"display:none;\">\n",
              "        \n",
              "  <svg xmlns=\"http://www.w3.org/2000/svg\" height=\"24px\"viewBox=\"0 0 24 24\"\n",
              "       width=\"24px\">\n",
              "    <path d=\"M0 0h24v24H0V0z\" fill=\"none\"/>\n",
              "    <path d=\"M18.56 5.44l.94 2.06.94-2.06 2.06-.94-2.06-.94-.94-2.06-.94 2.06-2.06.94zm-11 1L8.5 8.5l.94-2.06 2.06-.94-2.06-.94L8.5 2.5l-.94 2.06-2.06.94zm10 10l.94 2.06.94-2.06 2.06-.94-2.06-.94-.94-2.06-.94 2.06-2.06.94z\"/><path d=\"M17.41 7.96l-1.37-1.37c-.4-.4-.92-.59-1.43-.59-.52 0-1.04.2-1.43.59L10.3 9.45l-7.72 7.72c-.78.78-.78 2.05 0 2.83L4 21.41c.39.39.9.59 1.41.59.51 0 1.02-.2 1.41-.59l7.78-7.78 2.81-2.81c.8-.78.8-2.07 0-2.86zM5.41 20L4 18.59l7.72-7.72 1.47 1.35L5.41 20z\"/>\n",
              "  </svg>\n",
              "      </button>\n",
              "      \n",
              "  <style>\n",
              "    .colab-df-container {\n",
              "      display:flex;\n",
              "      flex-wrap:wrap;\n",
              "      gap: 12px;\n",
              "    }\n",
              "\n",
              "    .colab-df-convert {\n",
              "      background-color: #E8F0FE;\n",
              "      border: none;\n",
              "      border-radius: 50%;\n",
              "      cursor: pointer;\n",
              "      display: none;\n",
              "      fill: #1967D2;\n",
              "      height: 32px;\n",
              "      padding: 0 0 0 0;\n",
              "      width: 32px;\n",
              "    }\n",
              "\n",
              "    .colab-df-convert:hover {\n",
              "      background-color: #E2EBFA;\n",
              "      box-shadow: 0px 1px 2px rgba(60, 64, 67, 0.3), 0px 1px 3px 1px rgba(60, 64, 67, 0.15);\n",
              "      fill: #174EA6;\n",
              "    }\n",
              "\n",
              "    [theme=dark] .colab-df-convert {\n",
              "      background-color: #3B4455;\n",
              "      fill: #D2E3FC;\n",
              "    }\n",
              "\n",
              "    [theme=dark] .colab-df-convert:hover {\n",
              "      background-color: #434B5C;\n",
              "      box-shadow: 0px 1px 3px 1px rgba(0, 0, 0, 0.15);\n",
              "      filter: drop-shadow(0px 1px 2px rgba(0, 0, 0, 0.3));\n",
              "      fill: #FFFFFF;\n",
              "    }\n",
              "  </style>\n",
              "\n",
              "      <script>\n",
              "        const buttonEl =\n",
              "          document.querySelector('#df-87a1ef7f-b5a7-42cc-add0-12d59e92a7a3 button.colab-df-convert');\n",
              "        buttonEl.style.display =\n",
              "          google.colab.kernel.accessAllowed ? 'block' : 'none';\n",
              "\n",
              "        async function convertToInteractive(key) {\n",
              "          const element = document.querySelector('#df-87a1ef7f-b5a7-42cc-add0-12d59e92a7a3');\n",
              "          const dataTable =\n",
              "            await google.colab.kernel.invokeFunction('convertToInteractive',\n",
              "                                                     [key], {});\n",
              "          if (!dataTable) return;\n",
              "\n",
              "          const docLinkHtml = 'Like what you see? Visit the ' +\n",
              "            '<a target=\"_blank\" href=https://colab.research.google.com/notebooks/data_table.ipynb>data table notebook</a>'\n",
              "            + ' to learn more about interactive tables.';\n",
              "          element.innerHTML = '';\n",
              "          dataTable['output_type'] = 'display_data';\n",
              "          await google.colab.output.renderOutput(dataTable, element);\n",
              "          const docLink = document.createElement('div');\n",
              "          docLink.innerHTML = docLinkHtml;\n",
              "          element.appendChild(docLink);\n",
              "        }\n",
              "      </script>\n",
              "    </div>\n",
              "  </div>\n",
              "  "
            ]
          },
          "metadata": {},
          "execution_count": 6
        }
      ]
    },
    {
      "cell_type": "code",
      "source": [
        "data1.shape"
      ],
      "metadata": {
        "colab": {
          "base_uri": "https://localhost:8080/"
        },
        "id": "VXq8ul22XSnv",
        "outputId": "0e0ac87e-667b-45ef-b096-87a416ff6482"
      },
      "execution_count": null,
      "outputs": [
        {
          "output_type": "execute_result",
          "data": {
            "text/plain": [
              "(10000, 18)"
            ]
          },
          "metadata": {},
          "execution_count": 7
        }
      ]
    },
    {
      "cell_type": "code",
      "source": [
        "data1.drop(['objid','specobjid'], axis=1, inplace=True)"
      ],
      "metadata": {
        "id": "TUWOX71FXbPi"
      },
      "execution_count": null,
      "outputs": []
    },
    {
      "cell_type": "code",
      "source": [
        "data1.head(20)"
      ],
      "metadata": {
        "colab": {
          "base_uri": "https://localhost:8080/",
          "height": 676
        },
        "id": "x3lyC3cRXg7d",
        "outputId": "5d62af59-25f8-44ac-e512-33baeb8f7755"
      },
      "execution_count": null,
      "outputs": [
        {
          "output_type": "execute_result",
          "data": {
            "text/plain": [
              "            ra       dec         u         g         r         i         z  \\\n",
              "0   183.531326  0.089693  19.47406  17.04240  15.94699  15.50342  15.22531   \n",
              "1   183.598370  0.135285  18.66280  17.21449  16.67637  16.48922  16.39150   \n",
              "2   183.680207  0.126185  19.38298  18.19169  17.47428  17.08732  16.80125   \n",
              "3   183.870529  0.049911  17.76536  16.60272  16.16116  15.98233  15.90438   \n",
              "4   183.883288  0.102557  17.55025  16.26342  16.43869  16.55492  16.61326   \n",
              "5   183.847174  0.173694  19.43133  18.46779  18.16451  18.01475  18.04155   \n",
              "6   183.864379  0.019201  19.38322  17.88995  17.10537  16.66393  16.36955   \n",
              "7   183.900081  0.187473  18.97993  17.84496  17.38022  17.20673  17.07071   \n",
              "8   183.924588  0.097246  17.90616  16.97172  16.67541  16.53776  16.47596   \n",
              "9   183.973498  0.081626  18.67249  17.71375  17.49362  17.28284  17.22644   \n",
              "10  183.979195  0.135998  19.29772  17.80227  17.18266  16.92335  16.79928   \n",
              "11  184.085331  0.112110  18.83307  17.51785  16.94273  16.71418  16.60521   \n",
              "12  184.102098  0.191511  19.56250  18.19113  17.65759  17.47573  17.39203   \n",
              "13  184.160510  0.075645  19.57990  17.72815  16.98740  16.68076  16.50426   \n",
              "14  184.189574  0.099482  19.25667  17.54869  16.63578  16.14922  15.76639   \n",
              "15  184.350647  0.207230  18.73832  18.60962  18.39696  18.31174  17.97663   \n",
              "16  184.221797  0.046955  19.05958  18.09512  17.92766  17.89270  17.90772   \n",
              "17  184.245664  0.198257  19.22143  19.30248  19.13823  19.11351  19.23454   \n",
              "18  184.388870  0.068287  19.04397  17.51106  16.87335  16.61114  16.48303   \n",
              "19  184.380919  0.174323  17.81661  16.86976  16.53884  16.19576  16.08668   \n",
              "\n",
              "    run  rerun  camcol  field   class  redshift  plate    mjd  fiberid  \n",
              "0   752    301       4    267    STAR -0.000009   3306  54922      491  \n",
              "1   752    301       4    267    STAR -0.000055    323  51615      541  \n",
              "2   752    301       4    268  GALAXY  0.123111    287  52023      513  \n",
              "3   752    301       4    269    STAR -0.000111   3306  54922      510  \n",
              "4   752    301       4    269    STAR  0.000590   3306  54922      512  \n",
              "5   752    301       4    269    STAR  0.000315    324  51666      594  \n",
              "6   752    301       4    269  GALAXY  0.100242    287  52023      559  \n",
              "7   752    301       4    269    STAR  0.000315   3306  54922      515  \n",
              "8   752    301       4    270    STAR  0.000089    323  51615      595  \n",
              "9   752    301       4    270  GALAXY  0.040508    288  52000      400  \n",
              "10  752    301       4    270    STAR -0.000035   3306  54922      506  \n",
              "11  752    301       4    271    STAR  0.000623   3306  54922      547  \n",
              "12  752    301       4    271    STAR  0.000055   3306  54922      544  \n",
              "13  752    301       4    271    STAR  0.000008   3306  54922      546  \n",
              "14  752    301       4    271  GALAXY  0.072087    288  52000      389  \n",
              "15  752    301       4    272     QSO  0.271937    287  52023      587  \n",
              "16  752    301       4    272    STAR  0.000210    324  51666       35  \n",
              "17  752    301       4    272     QSO  1.178098    287  52023      583  \n",
              "18  752    301       4    273    STAR  0.000240    323  51615      628  \n",
              "19  752    301       4    273  GALAXY  0.072772    287  52023      632  "
            ],
            "text/html": [
              "\n",
              "  <div id=\"df-64100da3-9723-480c-be1b-d9a0cfde2e42\">\n",
              "    <div class=\"colab-df-container\">\n",
              "      <div>\n",
              "<style scoped>\n",
              "    .dataframe tbody tr th:only-of-type {\n",
              "        vertical-align: middle;\n",
              "    }\n",
              "\n",
              "    .dataframe tbody tr th {\n",
              "        vertical-align: top;\n",
              "    }\n",
              "\n",
              "    .dataframe thead th {\n",
              "        text-align: right;\n",
              "    }\n",
              "</style>\n",
              "<table border=\"1\" class=\"dataframe\">\n",
              "  <thead>\n",
              "    <tr style=\"text-align: right;\">\n",
              "      <th></th>\n",
              "      <th>ra</th>\n",
              "      <th>dec</th>\n",
              "      <th>u</th>\n",
              "      <th>g</th>\n",
              "      <th>r</th>\n",
              "      <th>i</th>\n",
              "      <th>z</th>\n",
              "      <th>run</th>\n",
              "      <th>rerun</th>\n",
              "      <th>camcol</th>\n",
              "      <th>field</th>\n",
              "      <th>class</th>\n",
              "      <th>redshift</th>\n",
              "      <th>plate</th>\n",
              "      <th>mjd</th>\n",
              "      <th>fiberid</th>\n",
              "    </tr>\n",
              "  </thead>\n",
              "  <tbody>\n",
              "    <tr>\n",
              "      <th>0</th>\n",
              "      <td>183.531326</td>\n",
              "      <td>0.089693</td>\n",
              "      <td>19.47406</td>\n",
              "      <td>17.04240</td>\n",
              "      <td>15.94699</td>\n",
              "      <td>15.50342</td>\n",
              "      <td>15.22531</td>\n",
              "      <td>752</td>\n",
              "      <td>301</td>\n",
              "      <td>4</td>\n",
              "      <td>267</td>\n",
              "      <td>STAR</td>\n",
              "      <td>-0.000009</td>\n",
              "      <td>3306</td>\n",
              "      <td>54922</td>\n",
              "      <td>491</td>\n",
              "    </tr>\n",
              "    <tr>\n",
              "      <th>1</th>\n",
              "      <td>183.598370</td>\n",
              "      <td>0.135285</td>\n",
              "      <td>18.66280</td>\n",
              "      <td>17.21449</td>\n",
              "      <td>16.67637</td>\n",
              "      <td>16.48922</td>\n",
              "      <td>16.39150</td>\n",
              "      <td>752</td>\n",
              "      <td>301</td>\n",
              "      <td>4</td>\n",
              "      <td>267</td>\n",
              "      <td>STAR</td>\n",
              "      <td>-0.000055</td>\n",
              "      <td>323</td>\n",
              "      <td>51615</td>\n",
              "      <td>541</td>\n",
              "    </tr>\n",
              "    <tr>\n",
              "      <th>2</th>\n",
              "      <td>183.680207</td>\n",
              "      <td>0.126185</td>\n",
              "      <td>19.38298</td>\n",
              "      <td>18.19169</td>\n",
              "      <td>17.47428</td>\n",
              "      <td>17.08732</td>\n",
              "      <td>16.80125</td>\n",
              "      <td>752</td>\n",
              "      <td>301</td>\n",
              "      <td>4</td>\n",
              "      <td>268</td>\n",
              "      <td>GALAXY</td>\n",
              "      <td>0.123111</td>\n",
              "      <td>287</td>\n",
              "      <td>52023</td>\n",
              "      <td>513</td>\n",
              "    </tr>\n",
              "    <tr>\n",
              "      <th>3</th>\n",
              "      <td>183.870529</td>\n",
              "      <td>0.049911</td>\n",
              "      <td>17.76536</td>\n",
              "      <td>16.60272</td>\n",
              "      <td>16.16116</td>\n",
              "      <td>15.98233</td>\n",
              "      <td>15.90438</td>\n",
              "      <td>752</td>\n",
              "      <td>301</td>\n",
              "      <td>4</td>\n",
              "      <td>269</td>\n",
              "      <td>STAR</td>\n",
              "      <td>-0.000111</td>\n",
              "      <td>3306</td>\n",
              "      <td>54922</td>\n",
              "      <td>510</td>\n",
              "    </tr>\n",
              "    <tr>\n",
              "      <th>4</th>\n",
              "      <td>183.883288</td>\n",
              "      <td>0.102557</td>\n",
              "      <td>17.55025</td>\n",
              "      <td>16.26342</td>\n",
              "      <td>16.43869</td>\n",
              "      <td>16.55492</td>\n",
              "      <td>16.61326</td>\n",
              "      <td>752</td>\n",
              "      <td>301</td>\n",
              "      <td>4</td>\n",
              "      <td>269</td>\n",
              "      <td>STAR</td>\n",
              "      <td>0.000590</td>\n",
              "      <td>3306</td>\n",
              "      <td>54922</td>\n",
              "      <td>512</td>\n",
              "    </tr>\n",
              "    <tr>\n",
              "      <th>5</th>\n",
              "      <td>183.847174</td>\n",
              "      <td>0.173694</td>\n",
              "      <td>19.43133</td>\n",
              "      <td>18.46779</td>\n",
              "      <td>18.16451</td>\n",
              "      <td>18.01475</td>\n",
              "      <td>18.04155</td>\n",
              "      <td>752</td>\n",
              "      <td>301</td>\n",
              "      <td>4</td>\n",
              "      <td>269</td>\n",
              "      <td>STAR</td>\n",
              "      <td>0.000315</td>\n",
              "      <td>324</td>\n",
              "      <td>51666</td>\n",
              "      <td>594</td>\n",
              "    </tr>\n",
              "    <tr>\n",
              "      <th>6</th>\n",
              "      <td>183.864379</td>\n",
              "      <td>0.019201</td>\n",
              "      <td>19.38322</td>\n",
              "      <td>17.88995</td>\n",
              "      <td>17.10537</td>\n",
              "      <td>16.66393</td>\n",
              "      <td>16.36955</td>\n",
              "      <td>752</td>\n",
              "      <td>301</td>\n",
              "      <td>4</td>\n",
              "      <td>269</td>\n",
              "      <td>GALAXY</td>\n",
              "      <td>0.100242</td>\n",
              "      <td>287</td>\n",
              "      <td>52023</td>\n",
              "      <td>559</td>\n",
              "    </tr>\n",
              "    <tr>\n",
              "      <th>7</th>\n",
              "      <td>183.900081</td>\n",
              "      <td>0.187473</td>\n",
              "      <td>18.97993</td>\n",
              "      <td>17.84496</td>\n",
              "      <td>17.38022</td>\n",
              "      <td>17.20673</td>\n",
              "      <td>17.07071</td>\n",
              "      <td>752</td>\n",
              "      <td>301</td>\n",
              "      <td>4</td>\n",
              "      <td>269</td>\n",
              "      <td>STAR</td>\n",
              "      <td>0.000315</td>\n",
              "      <td>3306</td>\n",
              "      <td>54922</td>\n",
              "      <td>515</td>\n",
              "    </tr>\n",
              "    <tr>\n",
              "      <th>8</th>\n",
              "      <td>183.924588</td>\n",
              "      <td>0.097246</td>\n",
              "      <td>17.90616</td>\n",
              "      <td>16.97172</td>\n",
              "      <td>16.67541</td>\n",
              "      <td>16.53776</td>\n",
              "      <td>16.47596</td>\n",
              "      <td>752</td>\n",
              "      <td>301</td>\n",
              "      <td>4</td>\n",
              "      <td>270</td>\n",
              "      <td>STAR</td>\n",
              "      <td>0.000089</td>\n",
              "      <td>323</td>\n",
              "      <td>51615</td>\n",
              "      <td>595</td>\n",
              "    </tr>\n",
              "    <tr>\n",
              "      <th>9</th>\n",
              "      <td>183.973498</td>\n",
              "      <td>0.081626</td>\n",
              "      <td>18.67249</td>\n",
              "      <td>17.71375</td>\n",
              "      <td>17.49362</td>\n",
              "      <td>17.28284</td>\n",
              "      <td>17.22644</td>\n",
              "      <td>752</td>\n",
              "      <td>301</td>\n",
              "      <td>4</td>\n",
              "      <td>270</td>\n",
              "      <td>GALAXY</td>\n",
              "      <td>0.040508</td>\n",
              "      <td>288</td>\n",
              "      <td>52000</td>\n",
              "      <td>400</td>\n",
              "    </tr>\n",
              "    <tr>\n",
              "      <th>10</th>\n",
              "      <td>183.979195</td>\n",
              "      <td>0.135998</td>\n",
              "      <td>19.29772</td>\n",
              "      <td>17.80227</td>\n",
              "      <td>17.18266</td>\n",
              "      <td>16.92335</td>\n",
              "      <td>16.79928</td>\n",
              "      <td>752</td>\n",
              "      <td>301</td>\n",
              "      <td>4</td>\n",
              "      <td>270</td>\n",
              "      <td>STAR</td>\n",
              "      <td>-0.000035</td>\n",
              "      <td>3306</td>\n",
              "      <td>54922</td>\n",
              "      <td>506</td>\n",
              "    </tr>\n",
              "    <tr>\n",
              "      <th>11</th>\n",
              "      <td>184.085331</td>\n",
              "      <td>0.112110</td>\n",
              "      <td>18.83307</td>\n",
              "      <td>17.51785</td>\n",
              "      <td>16.94273</td>\n",
              "      <td>16.71418</td>\n",
              "      <td>16.60521</td>\n",
              "      <td>752</td>\n",
              "      <td>301</td>\n",
              "      <td>4</td>\n",
              "      <td>271</td>\n",
              "      <td>STAR</td>\n",
              "      <td>0.000623</td>\n",
              "      <td>3306</td>\n",
              "      <td>54922</td>\n",
              "      <td>547</td>\n",
              "    </tr>\n",
              "    <tr>\n",
              "      <th>12</th>\n",
              "      <td>184.102098</td>\n",
              "      <td>0.191511</td>\n",
              "      <td>19.56250</td>\n",
              "      <td>18.19113</td>\n",
              "      <td>17.65759</td>\n",
              "      <td>17.47573</td>\n",
              "      <td>17.39203</td>\n",
              "      <td>752</td>\n",
              "      <td>301</td>\n",
              "      <td>4</td>\n",
              "      <td>271</td>\n",
              "      <td>STAR</td>\n",
              "      <td>0.000055</td>\n",
              "      <td>3306</td>\n",
              "      <td>54922</td>\n",
              "      <td>544</td>\n",
              "    </tr>\n",
              "    <tr>\n",
              "      <th>13</th>\n",
              "      <td>184.160510</td>\n",
              "      <td>0.075645</td>\n",
              "      <td>19.57990</td>\n",
              "      <td>17.72815</td>\n",
              "      <td>16.98740</td>\n",
              "      <td>16.68076</td>\n",
              "      <td>16.50426</td>\n",
              "      <td>752</td>\n",
              "      <td>301</td>\n",
              "      <td>4</td>\n",
              "      <td>271</td>\n",
              "      <td>STAR</td>\n",
              "      <td>0.000008</td>\n",
              "      <td>3306</td>\n",
              "      <td>54922</td>\n",
              "      <td>546</td>\n",
              "    </tr>\n",
              "    <tr>\n",
              "      <th>14</th>\n",
              "      <td>184.189574</td>\n",
              "      <td>0.099482</td>\n",
              "      <td>19.25667</td>\n",
              "      <td>17.54869</td>\n",
              "      <td>16.63578</td>\n",
              "      <td>16.14922</td>\n",
              "      <td>15.76639</td>\n",
              "      <td>752</td>\n",
              "      <td>301</td>\n",
              "      <td>4</td>\n",
              "      <td>271</td>\n",
              "      <td>GALAXY</td>\n",
              "      <td>0.072087</td>\n",
              "      <td>288</td>\n",
              "      <td>52000</td>\n",
              "      <td>389</td>\n",
              "    </tr>\n",
              "    <tr>\n",
              "      <th>15</th>\n",
              "      <td>184.350647</td>\n",
              "      <td>0.207230</td>\n",
              "      <td>18.73832</td>\n",
              "      <td>18.60962</td>\n",
              "      <td>18.39696</td>\n",
              "      <td>18.31174</td>\n",
              "      <td>17.97663</td>\n",
              "      <td>752</td>\n",
              "      <td>301</td>\n",
              "      <td>4</td>\n",
              "      <td>272</td>\n",
              "      <td>QSO</td>\n",
              "      <td>0.271937</td>\n",
              "      <td>287</td>\n",
              "      <td>52023</td>\n",
              "      <td>587</td>\n",
              "    </tr>\n",
              "    <tr>\n",
              "      <th>16</th>\n",
              "      <td>184.221797</td>\n",
              "      <td>0.046955</td>\n",
              "      <td>19.05958</td>\n",
              "      <td>18.09512</td>\n",
              "      <td>17.92766</td>\n",
              "      <td>17.89270</td>\n",
              "      <td>17.90772</td>\n",
              "      <td>752</td>\n",
              "      <td>301</td>\n",
              "      <td>4</td>\n",
              "      <td>272</td>\n",
              "      <td>STAR</td>\n",
              "      <td>0.000210</td>\n",
              "      <td>324</td>\n",
              "      <td>51666</td>\n",
              "      <td>35</td>\n",
              "    </tr>\n",
              "    <tr>\n",
              "      <th>17</th>\n",
              "      <td>184.245664</td>\n",
              "      <td>0.198257</td>\n",
              "      <td>19.22143</td>\n",
              "      <td>19.30248</td>\n",
              "      <td>19.13823</td>\n",
              "      <td>19.11351</td>\n",
              "      <td>19.23454</td>\n",
              "      <td>752</td>\n",
              "      <td>301</td>\n",
              "      <td>4</td>\n",
              "      <td>272</td>\n",
              "      <td>QSO</td>\n",
              "      <td>1.178098</td>\n",
              "      <td>287</td>\n",
              "      <td>52023</td>\n",
              "      <td>583</td>\n",
              "    </tr>\n",
              "    <tr>\n",
              "      <th>18</th>\n",
              "      <td>184.388870</td>\n",
              "      <td>0.068287</td>\n",
              "      <td>19.04397</td>\n",
              "      <td>17.51106</td>\n",
              "      <td>16.87335</td>\n",
              "      <td>16.61114</td>\n",
              "      <td>16.48303</td>\n",
              "      <td>752</td>\n",
              "      <td>301</td>\n",
              "      <td>4</td>\n",
              "      <td>273</td>\n",
              "      <td>STAR</td>\n",
              "      <td>0.000240</td>\n",
              "      <td>323</td>\n",
              "      <td>51615</td>\n",
              "      <td>628</td>\n",
              "    </tr>\n",
              "    <tr>\n",
              "      <th>19</th>\n",
              "      <td>184.380919</td>\n",
              "      <td>0.174323</td>\n",
              "      <td>17.81661</td>\n",
              "      <td>16.86976</td>\n",
              "      <td>16.53884</td>\n",
              "      <td>16.19576</td>\n",
              "      <td>16.08668</td>\n",
              "      <td>752</td>\n",
              "      <td>301</td>\n",
              "      <td>4</td>\n",
              "      <td>273</td>\n",
              "      <td>GALAXY</td>\n",
              "      <td>0.072772</td>\n",
              "      <td>287</td>\n",
              "      <td>52023</td>\n",
              "      <td>632</td>\n",
              "    </tr>\n",
              "  </tbody>\n",
              "</table>\n",
              "</div>\n",
              "      <button class=\"colab-df-convert\" onclick=\"convertToInteractive('df-64100da3-9723-480c-be1b-d9a0cfde2e42')\"\n",
              "              title=\"Convert this dataframe to an interactive table.\"\n",
              "              style=\"display:none;\">\n",
              "        \n",
              "  <svg xmlns=\"http://www.w3.org/2000/svg\" height=\"24px\"viewBox=\"0 0 24 24\"\n",
              "       width=\"24px\">\n",
              "    <path d=\"M0 0h24v24H0V0z\" fill=\"none\"/>\n",
              "    <path d=\"M18.56 5.44l.94 2.06.94-2.06 2.06-.94-2.06-.94-.94-2.06-.94 2.06-2.06.94zm-11 1L8.5 8.5l.94-2.06 2.06-.94-2.06-.94L8.5 2.5l-.94 2.06-2.06.94zm10 10l.94 2.06.94-2.06 2.06-.94-2.06-.94-.94-2.06-.94 2.06-2.06.94z\"/><path d=\"M17.41 7.96l-1.37-1.37c-.4-.4-.92-.59-1.43-.59-.52 0-1.04.2-1.43.59L10.3 9.45l-7.72 7.72c-.78.78-.78 2.05 0 2.83L4 21.41c.39.39.9.59 1.41.59.51 0 1.02-.2 1.41-.59l7.78-7.78 2.81-2.81c.8-.78.8-2.07 0-2.86zM5.41 20L4 18.59l7.72-7.72 1.47 1.35L5.41 20z\"/>\n",
              "  </svg>\n",
              "      </button>\n",
              "      \n",
              "  <style>\n",
              "    .colab-df-container {\n",
              "      display:flex;\n",
              "      flex-wrap:wrap;\n",
              "      gap: 12px;\n",
              "    }\n",
              "\n",
              "    .colab-df-convert {\n",
              "      background-color: #E8F0FE;\n",
              "      border: none;\n",
              "      border-radius: 50%;\n",
              "      cursor: pointer;\n",
              "      display: none;\n",
              "      fill: #1967D2;\n",
              "      height: 32px;\n",
              "      padding: 0 0 0 0;\n",
              "      width: 32px;\n",
              "    }\n",
              "\n",
              "    .colab-df-convert:hover {\n",
              "      background-color: #E2EBFA;\n",
              "      box-shadow: 0px 1px 2px rgba(60, 64, 67, 0.3), 0px 1px 3px 1px rgba(60, 64, 67, 0.15);\n",
              "      fill: #174EA6;\n",
              "    }\n",
              "\n",
              "    [theme=dark] .colab-df-convert {\n",
              "      background-color: #3B4455;\n",
              "      fill: #D2E3FC;\n",
              "    }\n",
              "\n",
              "    [theme=dark] .colab-df-convert:hover {\n",
              "      background-color: #434B5C;\n",
              "      box-shadow: 0px 1px 3px 1px rgba(0, 0, 0, 0.15);\n",
              "      filter: drop-shadow(0px 1px 2px rgba(0, 0, 0, 0.3));\n",
              "      fill: #FFFFFF;\n",
              "    }\n",
              "  </style>\n",
              "\n",
              "      <script>\n",
              "        const buttonEl =\n",
              "          document.querySelector('#df-64100da3-9723-480c-be1b-d9a0cfde2e42 button.colab-df-convert');\n",
              "        buttonEl.style.display =\n",
              "          google.colab.kernel.accessAllowed ? 'block' : 'none';\n",
              "\n",
              "        async function convertToInteractive(key) {\n",
              "          const element = document.querySelector('#df-64100da3-9723-480c-be1b-d9a0cfde2e42');\n",
              "          const dataTable =\n",
              "            await google.colab.kernel.invokeFunction('convertToInteractive',\n",
              "                                                     [key], {});\n",
              "          if (!dataTable) return;\n",
              "\n",
              "          const docLinkHtml = 'Like what you see? Visit the ' +\n",
              "            '<a target=\"_blank\" href=https://colab.research.google.com/notebooks/data_table.ipynb>data table notebook</a>'\n",
              "            + ' to learn more about interactive tables.';\n",
              "          element.innerHTML = '';\n",
              "          dataTable['output_type'] = 'display_data';\n",
              "          await google.colab.output.renderOutput(dataTable, element);\n",
              "          const docLink = document.createElement('div');\n",
              "          docLink.innerHTML = docLinkHtml;\n",
              "          element.appendChild(docLink);\n",
              "        }\n",
              "      </script>\n",
              "    </div>\n",
              "  </div>\n",
              "  "
            ]
          },
          "metadata": {},
          "execution_count": 9
        }
      ]
    },
    {
      "cell_type": "code",
      "source": [
        "data1.shape"
      ],
      "metadata": {
        "colab": {
          "base_uri": "https://localhost:8080/"
        },
        "id": "Aft74flQXsuX",
        "outputId": "bf85a126-2f50-4812-8591-a3018a3be8eb"
      },
      "execution_count": null,
      "outputs": [
        {
          "output_type": "execute_result",
          "data": {
            "text/plain": [
              "(10000, 16)"
            ]
          },
          "metadata": {},
          "execution_count": 10
        }
      ]
    },
    {
      "cell_type": "code",
      "source": [
        "data1.describe()"
      ],
      "metadata": {
        "colab": {
          "base_uri": "https://localhost:8080/",
          "height": 364
        },
        "id": "FjDK7M-XXy8g",
        "outputId": "2c7f593c-fc83-4ad9-c544-024f49a52d96"
      },
      "execution_count": null,
      "outputs": [
        {
          "output_type": "execute_result",
          "data": {
            "text/plain": [
              "                 ra           dec             u             g             r  \\\n",
              "count  10000.000000  10000.000000  10000.000000  10000.000000  10000.000000   \n",
              "mean     175.529987     14.836148     18.619355     17.371931     16.840963   \n",
              "std       47.783439     25.212207      0.828656      0.945457      1.067764   \n",
              "min        8.235100     -5.382632     12.988970     12.799550     12.431600   \n",
              "25%      157.370946     -0.539035     18.178035     16.815100     16.173333   \n",
              "50%      180.394514      0.404166     18.853095     17.495135     16.858770   \n",
              "75%      201.547279     35.649397     19.259232     18.010145     17.512675   \n",
              "max      260.884382     68.542265     19.599900     19.918970     24.802040   \n",
              "\n",
              "                  i             z           run    rerun        camcol  \\\n",
              "count  10000.000000  10000.000000  10000.000000  10000.0  10000.000000   \n",
              "mean      16.583579     16.422833    981.034800    301.0      3.648700   \n",
              "std        1.141805      1.203188    273.305024      0.0      1.666183   \n",
              "min       11.947210     11.610410    308.000000    301.0      1.000000   \n",
              "25%       15.853705     15.618285    752.000000    301.0      2.000000   \n",
              "50%       16.554985     16.389945    756.000000    301.0      4.000000   \n",
              "75%       17.258550     17.141447   1331.000000    301.0      5.000000   \n",
              "max       28.179630     22.833060   1412.000000    301.0      6.000000   \n",
              "\n",
              "              field      redshift         plate           mjd       fiberid  \n",
              "count  10000.000000  10000.000000  10000.000000  10000.000000  10000.000000  \n",
              "mean     302.380100      0.143726   1460.986400  52943.533300    353.069400  \n",
              "std      162.577763      0.388774   1788.778371   1511.150651    206.298149  \n",
              "min       11.000000     -0.004136    266.000000  51578.000000      1.000000  \n",
              "25%      184.000000      0.000081    301.000000  51900.000000    186.750000  \n",
              "50%      299.000000      0.042591    441.000000  51997.000000    351.000000  \n",
              "75%      414.000000      0.092579   2559.000000  54468.000000    510.000000  \n",
              "max      768.000000      5.353854   8410.000000  57481.000000   1000.000000  "
            ],
            "text/html": [
              "\n",
              "  <div id=\"df-0a128be0-7362-4f55-a997-e67b87cf0d15\">\n",
              "    <div class=\"colab-df-container\">\n",
              "      <div>\n",
              "<style scoped>\n",
              "    .dataframe tbody tr th:only-of-type {\n",
              "        vertical-align: middle;\n",
              "    }\n",
              "\n",
              "    .dataframe tbody tr th {\n",
              "        vertical-align: top;\n",
              "    }\n",
              "\n",
              "    .dataframe thead th {\n",
              "        text-align: right;\n",
              "    }\n",
              "</style>\n",
              "<table border=\"1\" class=\"dataframe\">\n",
              "  <thead>\n",
              "    <tr style=\"text-align: right;\">\n",
              "      <th></th>\n",
              "      <th>ra</th>\n",
              "      <th>dec</th>\n",
              "      <th>u</th>\n",
              "      <th>g</th>\n",
              "      <th>r</th>\n",
              "      <th>i</th>\n",
              "      <th>z</th>\n",
              "      <th>run</th>\n",
              "      <th>rerun</th>\n",
              "      <th>camcol</th>\n",
              "      <th>field</th>\n",
              "      <th>redshift</th>\n",
              "      <th>plate</th>\n",
              "      <th>mjd</th>\n",
              "      <th>fiberid</th>\n",
              "    </tr>\n",
              "  </thead>\n",
              "  <tbody>\n",
              "    <tr>\n",
              "      <th>count</th>\n",
              "      <td>10000.000000</td>\n",
              "      <td>10000.000000</td>\n",
              "      <td>10000.000000</td>\n",
              "      <td>10000.000000</td>\n",
              "      <td>10000.000000</td>\n",
              "      <td>10000.000000</td>\n",
              "      <td>10000.000000</td>\n",
              "      <td>10000.000000</td>\n",
              "      <td>10000.0</td>\n",
              "      <td>10000.000000</td>\n",
              "      <td>10000.000000</td>\n",
              "      <td>10000.000000</td>\n",
              "      <td>10000.000000</td>\n",
              "      <td>10000.000000</td>\n",
              "      <td>10000.000000</td>\n",
              "    </tr>\n",
              "    <tr>\n",
              "      <th>mean</th>\n",
              "      <td>175.529987</td>\n",
              "      <td>14.836148</td>\n",
              "      <td>18.619355</td>\n",
              "      <td>17.371931</td>\n",
              "      <td>16.840963</td>\n",
              "      <td>16.583579</td>\n",
              "      <td>16.422833</td>\n",
              "      <td>981.034800</td>\n",
              "      <td>301.0</td>\n",
              "      <td>3.648700</td>\n",
              "      <td>302.380100</td>\n",
              "      <td>0.143726</td>\n",
              "      <td>1460.986400</td>\n",
              "      <td>52943.533300</td>\n",
              "      <td>353.069400</td>\n",
              "    </tr>\n",
              "    <tr>\n",
              "      <th>std</th>\n",
              "      <td>47.783439</td>\n",
              "      <td>25.212207</td>\n",
              "      <td>0.828656</td>\n",
              "      <td>0.945457</td>\n",
              "      <td>1.067764</td>\n",
              "      <td>1.141805</td>\n",
              "      <td>1.203188</td>\n",
              "      <td>273.305024</td>\n",
              "      <td>0.0</td>\n",
              "      <td>1.666183</td>\n",
              "      <td>162.577763</td>\n",
              "      <td>0.388774</td>\n",
              "      <td>1788.778371</td>\n",
              "      <td>1511.150651</td>\n",
              "      <td>206.298149</td>\n",
              "    </tr>\n",
              "    <tr>\n",
              "      <th>min</th>\n",
              "      <td>8.235100</td>\n",
              "      <td>-5.382632</td>\n",
              "      <td>12.988970</td>\n",
              "      <td>12.799550</td>\n",
              "      <td>12.431600</td>\n",
              "      <td>11.947210</td>\n",
              "      <td>11.610410</td>\n",
              "      <td>308.000000</td>\n",
              "      <td>301.0</td>\n",
              "      <td>1.000000</td>\n",
              "      <td>11.000000</td>\n",
              "      <td>-0.004136</td>\n",
              "      <td>266.000000</td>\n",
              "      <td>51578.000000</td>\n",
              "      <td>1.000000</td>\n",
              "    </tr>\n",
              "    <tr>\n",
              "      <th>25%</th>\n",
              "      <td>157.370946</td>\n",
              "      <td>-0.539035</td>\n",
              "      <td>18.178035</td>\n",
              "      <td>16.815100</td>\n",
              "      <td>16.173333</td>\n",
              "      <td>15.853705</td>\n",
              "      <td>15.618285</td>\n",
              "      <td>752.000000</td>\n",
              "      <td>301.0</td>\n",
              "      <td>2.000000</td>\n",
              "      <td>184.000000</td>\n",
              "      <td>0.000081</td>\n",
              "      <td>301.000000</td>\n",
              "      <td>51900.000000</td>\n",
              "      <td>186.750000</td>\n",
              "    </tr>\n",
              "    <tr>\n",
              "      <th>50%</th>\n",
              "      <td>180.394514</td>\n",
              "      <td>0.404166</td>\n",
              "      <td>18.853095</td>\n",
              "      <td>17.495135</td>\n",
              "      <td>16.858770</td>\n",
              "      <td>16.554985</td>\n",
              "      <td>16.389945</td>\n",
              "      <td>756.000000</td>\n",
              "      <td>301.0</td>\n",
              "      <td>4.000000</td>\n",
              "      <td>299.000000</td>\n",
              "      <td>0.042591</td>\n",
              "      <td>441.000000</td>\n",
              "      <td>51997.000000</td>\n",
              "      <td>351.000000</td>\n",
              "    </tr>\n",
              "    <tr>\n",
              "      <th>75%</th>\n",
              "      <td>201.547279</td>\n",
              "      <td>35.649397</td>\n",
              "      <td>19.259232</td>\n",
              "      <td>18.010145</td>\n",
              "      <td>17.512675</td>\n",
              "      <td>17.258550</td>\n",
              "      <td>17.141447</td>\n",
              "      <td>1331.000000</td>\n",
              "      <td>301.0</td>\n",
              "      <td>5.000000</td>\n",
              "      <td>414.000000</td>\n",
              "      <td>0.092579</td>\n",
              "      <td>2559.000000</td>\n",
              "      <td>54468.000000</td>\n",
              "      <td>510.000000</td>\n",
              "    </tr>\n",
              "    <tr>\n",
              "      <th>max</th>\n",
              "      <td>260.884382</td>\n",
              "      <td>68.542265</td>\n",
              "      <td>19.599900</td>\n",
              "      <td>19.918970</td>\n",
              "      <td>24.802040</td>\n",
              "      <td>28.179630</td>\n",
              "      <td>22.833060</td>\n",
              "      <td>1412.000000</td>\n",
              "      <td>301.0</td>\n",
              "      <td>6.000000</td>\n",
              "      <td>768.000000</td>\n",
              "      <td>5.353854</td>\n",
              "      <td>8410.000000</td>\n",
              "      <td>57481.000000</td>\n",
              "      <td>1000.000000</td>\n",
              "    </tr>\n",
              "  </tbody>\n",
              "</table>\n",
              "</div>\n",
              "      <button class=\"colab-df-convert\" onclick=\"convertToInteractive('df-0a128be0-7362-4f55-a997-e67b87cf0d15')\"\n",
              "              title=\"Convert this dataframe to an interactive table.\"\n",
              "              style=\"display:none;\">\n",
              "        \n",
              "  <svg xmlns=\"http://www.w3.org/2000/svg\" height=\"24px\"viewBox=\"0 0 24 24\"\n",
              "       width=\"24px\">\n",
              "    <path d=\"M0 0h24v24H0V0z\" fill=\"none\"/>\n",
              "    <path d=\"M18.56 5.44l.94 2.06.94-2.06 2.06-.94-2.06-.94-.94-2.06-.94 2.06-2.06.94zm-11 1L8.5 8.5l.94-2.06 2.06-.94-2.06-.94L8.5 2.5l-.94 2.06-2.06.94zm10 10l.94 2.06.94-2.06 2.06-.94-2.06-.94-.94-2.06-.94 2.06-2.06.94z\"/><path d=\"M17.41 7.96l-1.37-1.37c-.4-.4-.92-.59-1.43-.59-.52 0-1.04.2-1.43.59L10.3 9.45l-7.72 7.72c-.78.78-.78 2.05 0 2.83L4 21.41c.39.39.9.59 1.41.59.51 0 1.02-.2 1.41-.59l7.78-7.78 2.81-2.81c.8-.78.8-2.07 0-2.86zM5.41 20L4 18.59l7.72-7.72 1.47 1.35L5.41 20z\"/>\n",
              "  </svg>\n",
              "      </button>\n",
              "      \n",
              "  <style>\n",
              "    .colab-df-container {\n",
              "      display:flex;\n",
              "      flex-wrap:wrap;\n",
              "      gap: 12px;\n",
              "    }\n",
              "\n",
              "    .colab-df-convert {\n",
              "      background-color: #E8F0FE;\n",
              "      border: none;\n",
              "      border-radius: 50%;\n",
              "      cursor: pointer;\n",
              "      display: none;\n",
              "      fill: #1967D2;\n",
              "      height: 32px;\n",
              "      padding: 0 0 0 0;\n",
              "      width: 32px;\n",
              "    }\n",
              "\n",
              "    .colab-df-convert:hover {\n",
              "      background-color: #E2EBFA;\n",
              "      box-shadow: 0px 1px 2px rgba(60, 64, 67, 0.3), 0px 1px 3px 1px rgba(60, 64, 67, 0.15);\n",
              "      fill: #174EA6;\n",
              "    }\n",
              "\n",
              "    [theme=dark] .colab-df-convert {\n",
              "      background-color: #3B4455;\n",
              "      fill: #D2E3FC;\n",
              "    }\n",
              "\n",
              "    [theme=dark] .colab-df-convert:hover {\n",
              "      background-color: #434B5C;\n",
              "      box-shadow: 0px 1px 3px 1px rgba(0, 0, 0, 0.15);\n",
              "      filter: drop-shadow(0px 1px 2px rgba(0, 0, 0, 0.3));\n",
              "      fill: #FFFFFF;\n",
              "    }\n",
              "  </style>\n",
              "\n",
              "      <script>\n",
              "        const buttonEl =\n",
              "          document.querySelector('#df-0a128be0-7362-4f55-a997-e67b87cf0d15 button.colab-df-convert');\n",
              "        buttonEl.style.display =\n",
              "          google.colab.kernel.accessAllowed ? 'block' : 'none';\n",
              "\n",
              "        async function convertToInteractive(key) {\n",
              "          const element = document.querySelector('#df-0a128be0-7362-4f55-a997-e67b87cf0d15');\n",
              "          const dataTable =\n",
              "            await google.colab.kernel.invokeFunction('convertToInteractive',\n",
              "                                                     [key], {});\n",
              "          if (!dataTable) return;\n",
              "\n",
              "          const docLinkHtml = 'Like what you see? Visit the ' +\n",
              "            '<a target=\"_blank\" href=https://colab.research.google.com/notebooks/data_table.ipynb>data table notebook</a>'\n",
              "            + ' to learn more about interactive tables.';\n",
              "          element.innerHTML = '';\n",
              "          dataTable['output_type'] = 'display_data';\n",
              "          await google.colab.output.renderOutput(dataTable, element);\n",
              "          const docLink = document.createElement('div');\n",
              "          docLink.innerHTML = docLinkHtml;\n",
              "          element.appendChild(docLink);\n",
              "        }\n",
              "      </script>\n",
              "    </div>\n",
              "  </div>\n",
              "  "
            ]
          },
          "metadata": {},
          "execution_count": 11
        }
      ]
    },
    {
      "cell_type": "code",
      "source": [
        "data1.info()"
      ],
      "metadata": {
        "colab": {
          "base_uri": "https://localhost:8080/"
        },
        "id": "JgXlxHstX_1Y",
        "outputId": "0e7129e8-6768-48a2-b7fc-92dbeec9bd52"
      },
      "execution_count": null,
      "outputs": [
        {
          "output_type": "stream",
          "name": "stdout",
          "text": [
            "<class 'pandas.core.frame.DataFrame'>\n",
            "RangeIndex: 10000 entries, 0 to 9999\n",
            "Data columns (total 16 columns):\n",
            " #   Column    Non-Null Count  Dtype  \n",
            "---  ------    --------------  -----  \n",
            " 0   ra        10000 non-null  float64\n",
            " 1   dec       10000 non-null  float64\n",
            " 2   u         10000 non-null  float64\n",
            " 3   g         10000 non-null  float64\n",
            " 4   r         10000 non-null  float64\n",
            " 5   i         10000 non-null  float64\n",
            " 6   z         10000 non-null  float64\n",
            " 7   run       10000 non-null  int64  \n",
            " 8   rerun     10000 non-null  int64  \n",
            " 9   camcol    10000 non-null  int64  \n",
            " 10  field     10000 non-null  int64  \n",
            " 11  class     10000 non-null  object \n",
            " 12  redshift  10000 non-null  float64\n",
            " 13  plate     10000 non-null  int64  \n",
            " 14  mjd       10000 non-null  int64  \n",
            " 15  fiberid   10000 non-null  int64  \n",
            "dtypes: float64(8), int64(7), object(1)\n",
            "memory usage: 1.2+ MB\n"
          ]
        }
      ]
    },
    {
      "cell_type": "code",
      "source": [
        "le = LabelEncoder().fit(data1['class'])\n",
        "data1['class'] = le.transform(data1['class'])"
      ],
      "metadata": {
        "id": "CZVgO_7TYQiv"
      },
      "execution_count": null,
      "outputs": []
    },
    {
      "cell_type": "code",
      "source": [
        "data1.head(20)"
      ],
      "metadata": {
        "colab": {
          "base_uri": "https://localhost:8080/",
          "height": 676
        },
        "id": "XU9vW9r2Y4Pg",
        "outputId": "fdedc440-7bdc-499d-9f49-398d7f9e7711"
      },
      "execution_count": null,
      "outputs": [
        {
          "output_type": "execute_result",
          "data": {
            "text/plain": [
              "            ra       dec         u         g         r         i         z  \\\n",
              "0   183.531326  0.089693  19.47406  17.04240  15.94699  15.50342  15.22531   \n",
              "1   183.598370  0.135285  18.66280  17.21449  16.67637  16.48922  16.39150   \n",
              "2   183.680207  0.126185  19.38298  18.19169  17.47428  17.08732  16.80125   \n",
              "3   183.870529  0.049911  17.76536  16.60272  16.16116  15.98233  15.90438   \n",
              "4   183.883288  0.102557  17.55025  16.26342  16.43869  16.55492  16.61326   \n",
              "5   183.847174  0.173694  19.43133  18.46779  18.16451  18.01475  18.04155   \n",
              "6   183.864379  0.019201  19.38322  17.88995  17.10537  16.66393  16.36955   \n",
              "7   183.900081  0.187473  18.97993  17.84496  17.38022  17.20673  17.07071   \n",
              "8   183.924588  0.097246  17.90616  16.97172  16.67541  16.53776  16.47596   \n",
              "9   183.973498  0.081626  18.67249  17.71375  17.49362  17.28284  17.22644   \n",
              "10  183.979195  0.135998  19.29772  17.80227  17.18266  16.92335  16.79928   \n",
              "11  184.085331  0.112110  18.83307  17.51785  16.94273  16.71418  16.60521   \n",
              "12  184.102098  0.191511  19.56250  18.19113  17.65759  17.47573  17.39203   \n",
              "13  184.160510  0.075645  19.57990  17.72815  16.98740  16.68076  16.50426   \n",
              "14  184.189574  0.099482  19.25667  17.54869  16.63578  16.14922  15.76639   \n",
              "15  184.350647  0.207230  18.73832  18.60962  18.39696  18.31174  17.97663   \n",
              "16  184.221797  0.046955  19.05958  18.09512  17.92766  17.89270  17.90772   \n",
              "17  184.245664  0.198257  19.22143  19.30248  19.13823  19.11351  19.23454   \n",
              "18  184.388870  0.068287  19.04397  17.51106  16.87335  16.61114  16.48303   \n",
              "19  184.380919  0.174323  17.81661  16.86976  16.53884  16.19576  16.08668   \n",
              "\n",
              "    run  rerun  camcol  field  class  redshift  plate    mjd  fiberid  \n",
              "0   752    301       4    267      2 -0.000009   3306  54922      491  \n",
              "1   752    301       4    267      2 -0.000055    323  51615      541  \n",
              "2   752    301       4    268      0  0.123111    287  52023      513  \n",
              "3   752    301       4    269      2 -0.000111   3306  54922      510  \n",
              "4   752    301       4    269      2  0.000590   3306  54922      512  \n",
              "5   752    301       4    269      2  0.000315    324  51666      594  \n",
              "6   752    301       4    269      0  0.100242    287  52023      559  \n",
              "7   752    301       4    269      2  0.000315   3306  54922      515  \n",
              "8   752    301       4    270      2  0.000089    323  51615      595  \n",
              "9   752    301       4    270      0  0.040508    288  52000      400  \n",
              "10  752    301       4    270      2 -0.000035   3306  54922      506  \n",
              "11  752    301       4    271      2  0.000623   3306  54922      547  \n",
              "12  752    301       4    271      2  0.000055   3306  54922      544  \n",
              "13  752    301       4    271      2  0.000008   3306  54922      546  \n",
              "14  752    301       4    271      0  0.072087    288  52000      389  \n",
              "15  752    301       4    272      1  0.271937    287  52023      587  \n",
              "16  752    301       4    272      2  0.000210    324  51666       35  \n",
              "17  752    301       4    272      1  1.178098    287  52023      583  \n",
              "18  752    301       4    273      2  0.000240    323  51615      628  \n",
              "19  752    301       4    273      0  0.072772    287  52023      632  "
            ],
            "text/html": [
              "\n",
              "  <div id=\"df-cc6084c2-9714-445f-a3db-87b1b0b0a07d\">\n",
              "    <div class=\"colab-df-container\">\n",
              "      <div>\n",
              "<style scoped>\n",
              "    .dataframe tbody tr th:only-of-type {\n",
              "        vertical-align: middle;\n",
              "    }\n",
              "\n",
              "    .dataframe tbody tr th {\n",
              "        vertical-align: top;\n",
              "    }\n",
              "\n",
              "    .dataframe thead th {\n",
              "        text-align: right;\n",
              "    }\n",
              "</style>\n",
              "<table border=\"1\" class=\"dataframe\">\n",
              "  <thead>\n",
              "    <tr style=\"text-align: right;\">\n",
              "      <th></th>\n",
              "      <th>ra</th>\n",
              "      <th>dec</th>\n",
              "      <th>u</th>\n",
              "      <th>g</th>\n",
              "      <th>r</th>\n",
              "      <th>i</th>\n",
              "      <th>z</th>\n",
              "      <th>run</th>\n",
              "      <th>rerun</th>\n",
              "      <th>camcol</th>\n",
              "      <th>field</th>\n",
              "      <th>class</th>\n",
              "      <th>redshift</th>\n",
              "      <th>plate</th>\n",
              "      <th>mjd</th>\n",
              "      <th>fiberid</th>\n",
              "    </tr>\n",
              "  </thead>\n",
              "  <tbody>\n",
              "    <tr>\n",
              "      <th>0</th>\n",
              "      <td>183.531326</td>\n",
              "      <td>0.089693</td>\n",
              "      <td>19.47406</td>\n",
              "      <td>17.04240</td>\n",
              "      <td>15.94699</td>\n",
              "      <td>15.50342</td>\n",
              "      <td>15.22531</td>\n",
              "      <td>752</td>\n",
              "      <td>301</td>\n",
              "      <td>4</td>\n",
              "      <td>267</td>\n",
              "      <td>2</td>\n",
              "      <td>-0.000009</td>\n",
              "      <td>3306</td>\n",
              "      <td>54922</td>\n",
              "      <td>491</td>\n",
              "    </tr>\n",
              "    <tr>\n",
              "      <th>1</th>\n",
              "      <td>183.598370</td>\n",
              "      <td>0.135285</td>\n",
              "      <td>18.66280</td>\n",
              "      <td>17.21449</td>\n",
              "      <td>16.67637</td>\n",
              "      <td>16.48922</td>\n",
              "      <td>16.39150</td>\n",
              "      <td>752</td>\n",
              "      <td>301</td>\n",
              "      <td>4</td>\n",
              "      <td>267</td>\n",
              "      <td>2</td>\n",
              "      <td>-0.000055</td>\n",
              "      <td>323</td>\n",
              "      <td>51615</td>\n",
              "      <td>541</td>\n",
              "    </tr>\n",
              "    <tr>\n",
              "      <th>2</th>\n",
              "      <td>183.680207</td>\n",
              "      <td>0.126185</td>\n",
              "      <td>19.38298</td>\n",
              "      <td>18.19169</td>\n",
              "      <td>17.47428</td>\n",
              "      <td>17.08732</td>\n",
              "      <td>16.80125</td>\n",
              "      <td>752</td>\n",
              "      <td>301</td>\n",
              "      <td>4</td>\n",
              "      <td>268</td>\n",
              "      <td>0</td>\n",
              "      <td>0.123111</td>\n",
              "      <td>287</td>\n",
              "      <td>52023</td>\n",
              "      <td>513</td>\n",
              "    </tr>\n",
              "    <tr>\n",
              "      <th>3</th>\n",
              "      <td>183.870529</td>\n",
              "      <td>0.049911</td>\n",
              "      <td>17.76536</td>\n",
              "      <td>16.60272</td>\n",
              "      <td>16.16116</td>\n",
              "      <td>15.98233</td>\n",
              "      <td>15.90438</td>\n",
              "      <td>752</td>\n",
              "      <td>301</td>\n",
              "      <td>4</td>\n",
              "      <td>269</td>\n",
              "      <td>2</td>\n",
              "      <td>-0.000111</td>\n",
              "      <td>3306</td>\n",
              "      <td>54922</td>\n",
              "      <td>510</td>\n",
              "    </tr>\n",
              "    <tr>\n",
              "      <th>4</th>\n",
              "      <td>183.883288</td>\n",
              "      <td>0.102557</td>\n",
              "      <td>17.55025</td>\n",
              "      <td>16.26342</td>\n",
              "      <td>16.43869</td>\n",
              "      <td>16.55492</td>\n",
              "      <td>16.61326</td>\n",
              "      <td>752</td>\n",
              "      <td>301</td>\n",
              "      <td>4</td>\n",
              "      <td>269</td>\n",
              "      <td>2</td>\n",
              "      <td>0.000590</td>\n",
              "      <td>3306</td>\n",
              "      <td>54922</td>\n",
              "      <td>512</td>\n",
              "    </tr>\n",
              "    <tr>\n",
              "      <th>5</th>\n",
              "      <td>183.847174</td>\n",
              "      <td>0.173694</td>\n",
              "      <td>19.43133</td>\n",
              "      <td>18.46779</td>\n",
              "      <td>18.16451</td>\n",
              "      <td>18.01475</td>\n",
              "      <td>18.04155</td>\n",
              "      <td>752</td>\n",
              "      <td>301</td>\n",
              "      <td>4</td>\n",
              "      <td>269</td>\n",
              "      <td>2</td>\n",
              "      <td>0.000315</td>\n",
              "      <td>324</td>\n",
              "      <td>51666</td>\n",
              "      <td>594</td>\n",
              "    </tr>\n",
              "    <tr>\n",
              "      <th>6</th>\n",
              "      <td>183.864379</td>\n",
              "      <td>0.019201</td>\n",
              "      <td>19.38322</td>\n",
              "      <td>17.88995</td>\n",
              "      <td>17.10537</td>\n",
              "      <td>16.66393</td>\n",
              "      <td>16.36955</td>\n",
              "      <td>752</td>\n",
              "      <td>301</td>\n",
              "      <td>4</td>\n",
              "      <td>269</td>\n",
              "      <td>0</td>\n",
              "      <td>0.100242</td>\n",
              "      <td>287</td>\n",
              "      <td>52023</td>\n",
              "      <td>559</td>\n",
              "    </tr>\n",
              "    <tr>\n",
              "      <th>7</th>\n",
              "      <td>183.900081</td>\n",
              "      <td>0.187473</td>\n",
              "      <td>18.97993</td>\n",
              "      <td>17.84496</td>\n",
              "      <td>17.38022</td>\n",
              "      <td>17.20673</td>\n",
              "      <td>17.07071</td>\n",
              "      <td>752</td>\n",
              "      <td>301</td>\n",
              "      <td>4</td>\n",
              "      <td>269</td>\n",
              "      <td>2</td>\n",
              "      <td>0.000315</td>\n",
              "      <td>3306</td>\n",
              "      <td>54922</td>\n",
              "      <td>515</td>\n",
              "    </tr>\n",
              "    <tr>\n",
              "      <th>8</th>\n",
              "      <td>183.924588</td>\n",
              "      <td>0.097246</td>\n",
              "      <td>17.90616</td>\n",
              "      <td>16.97172</td>\n",
              "      <td>16.67541</td>\n",
              "      <td>16.53776</td>\n",
              "      <td>16.47596</td>\n",
              "      <td>752</td>\n",
              "      <td>301</td>\n",
              "      <td>4</td>\n",
              "      <td>270</td>\n",
              "      <td>2</td>\n",
              "      <td>0.000089</td>\n",
              "      <td>323</td>\n",
              "      <td>51615</td>\n",
              "      <td>595</td>\n",
              "    </tr>\n",
              "    <tr>\n",
              "      <th>9</th>\n",
              "      <td>183.973498</td>\n",
              "      <td>0.081626</td>\n",
              "      <td>18.67249</td>\n",
              "      <td>17.71375</td>\n",
              "      <td>17.49362</td>\n",
              "      <td>17.28284</td>\n",
              "      <td>17.22644</td>\n",
              "      <td>752</td>\n",
              "      <td>301</td>\n",
              "      <td>4</td>\n",
              "      <td>270</td>\n",
              "      <td>0</td>\n",
              "      <td>0.040508</td>\n",
              "      <td>288</td>\n",
              "      <td>52000</td>\n",
              "      <td>400</td>\n",
              "    </tr>\n",
              "    <tr>\n",
              "      <th>10</th>\n",
              "      <td>183.979195</td>\n",
              "      <td>0.135998</td>\n",
              "      <td>19.29772</td>\n",
              "      <td>17.80227</td>\n",
              "      <td>17.18266</td>\n",
              "      <td>16.92335</td>\n",
              "      <td>16.79928</td>\n",
              "      <td>752</td>\n",
              "      <td>301</td>\n",
              "      <td>4</td>\n",
              "      <td>270</td>\n",
              "      <td>2</td>\n",
              "      <td>-0.000035</td>\n",
              "      <td>3306</td>\n",
              "      <td>54922</td>\n",
              "      <td>506</td>\n",
              "    </tr>\n",
              "    <tr>\n",
              "      <th>11</th>\n",
              "      <td>184.085331</td>\n",
              "      <td>0.112110</td>\n",
              "      <td>18.83307</td>\n",
              "      <td>17.51785</td>\n",
              "      <td>16.94273</td>\n",
              "      <td>16.71418</td>\n",
              "      <td>16.60521</td>\n",
              "      <td>752</td>\n",
              "      <td>301</td>\n",
              "      <td>4</td>\n",
              "      <td>271</td>\n",
              "      <td>2</td>\n",
              "      <td>0.000623</td>\n",
              "      <td>3306</td>\n",
              "      <td>54922</td>\n",
              "      <td>547</td>\n",
              "    </tr>\n",
              "    <tr>\n",
              "      <th>12</th>\n",
              "      <td>184.102098</td>\n",
              "      <td>0.191511</td>\n",
              "      <td>19.56250</td>\n",
              "      <td>18.19113</td>\n",
              "      <td>17.65759</td>\n",
              "      <td>17.47573</td>\n",
              "      <td>17.39203</td>\n",
              "      <td>752</td>\n",
              "      <td>301</td>\n",
              "      <td>4</td>\n",
              "      <td>271</td>\n",
              "      <td>2</td>\n",
              "      <td>0.000055</td>\n",
              "      <td>3306</td>\n",
              "      <td>54922</td>\n",
              "      <td>544</td>\n",
              "    </tr>\n",
              "    <tr>\n",
              "      <th>13</th>\n",
              "      <td>184.160510</td>\n",
              "      <td>0.075645</td>\n",
              "      <td>19.57990</td>\n",
              "      <td>17.72815</td>\n",
              "      <td>16.98740</td>\n",
              "      <td>16.68076</td>\n",
              "      <td>16.50426</td>\n",
              "      <td>752</td>\n",
              "      <td>301</td>\n",
              "      <td>4</td>\n",
              "      <td>271</td>\n",
              "      <td>2</td>\n",
              "      <td>0.000008</td>\n",
              "      <td>3306</td>\n",
              "      <td>54922</td>\n",
              "      <td>546</td>\n",
              "    </tr>\n",
              "    <tr>\n",
              "      <th>14</th>\n",
              "      <td>184.189574</td>\n",
              "      <td>0.099482</td>\n",
              "      <td>19.25667</td>\n",
              "      <td>17.54869</td>\n",
              "      <td>16.63578</td>\n",
              "      <td>16.14922</td>\n",
              "      <td>15.76639</td>\n",
              "      <td>752</td>\n",
              "      <td>301</td>\n",
              "      <td>4</td>\n",
              "      <td>271</td>\n",
              "      <td>0</td>\n",
              "      <td>0.072087</td>\n",
              "      <td>288</td>\n",
              "      <td>52000</td>\n",
              "      <td>389</td>\n",
              "    </tr>\n",
              "    <tr>\n",
              "      <th>15</th>\n",
              "      <td>184.350647</td>\n",
              "      <td>0.207230</td>\n",
              "      <td>18.73832</td>\n",
              "      <td>18.60962</td>\n",
              "      <td>18.39696</td>\n",
              "      <td>18.31174</td>\n",
              "      <td>17.97663</td>\n",
              "      <td>752</td>\n",
              "      <td>301</td>\n",
              "      <td>4</td>\n",
              "      <td>272</td>\n",
              "      <td>1</td>\n",
              "      <td>0.271937</td>\n",
              "      <td>287</td>\n",
              "      <td>52023</td>\n",
              "      <td>587</td>\n",
              "    </tr>\n",
              "    <tr>\n",
              "      <th>16</th>\n",
              "      <td>184.221797</td>\n",
              "      <td>0.046955</td>\n",
              "      <td>19.05958</td>\n",
              "      <td>18.09512</td>\n",
              "      <td>17.92766</td>\n",
              "      <td>17.89270</td>\n",
              "      <td>17.90772</td>\n",
              "      <td>752</td>\n",
              "      <td>301</td>\n",
              "      <td>4</td>\n",
              "      <td>272</td>\n",
              "      <td>2</td>\n",
              "      <td>0.000210</td>\n",
              "      <td>324</td>\n",
              "      <td>51666</td>\n",
              "      <td>35</td>\n",
              "    </tr>\n",
              "    <tr>\n",
              "      <th>17</th>\n",
              "      <td>184.245664</td>\n",
              "      <td>0.198257</td>\n",
              "      <td>19.22143</td>\n",
              "      <td>19.30248</td>\n",
              "      <td>19.13823</td>\n",
              "      <td>19.11351</td>\n",
              "      <td>19.23454</td>\n",
              "      <td>752</td>\n",
              "      <td>301</td>\n",
              "      <td>4</td>\n",
              "      <td>272</td>\n",
              "      <td>1</td>\n",
              "      <td>1.178098</td>\n",
              "      <td>287</td>\n",
              "      <td>52023</td>\n",
              "      <td>583</td>\n",
              "    </tr>\n",
              "    <tr>\n",
              "      <th>18</th>\n",
              "      <td>184.388870</td>\n",
              "      <td>0.068287</td>\n",
              "      <td>19.04397</td>\n",
              "      <td>17.51106</td>\n",
              "      <td>16.87335</td>\n",
              "      <td>16.61114</td>\n",
              "      <td>16.48303</td>\n",
              "      <td>752</td>\n",
              "      <td>301</td>\n",
              "      <td>4</td>\n",
              "      <td>273</td>\n",
              "      <td>2</td>\n",
              "      <td>0.000240</td>\n",
              "      <td>323</td>\n",
              "      <td>51615</td>\n",
              "      <td>628</td>\n",
              "    </tr>\n",
              "    <tr>\n",
              "      <th>19</th>\n",
              "      <td>184.380919</td>\n",
              "      <td>0.174323</td>\n",
              "      <td>17.81661</td>\n",
              "      <td>16.86976</td>\n",
              "      <td>16.53884</td>\n",
              "      <td>16.19576</td>\n",
              "      <td>16.08668</td>\n",
              "      <td>752</td>\n",
              "      <td>301</td>\n",
              "      <td>4</td>\n",
              "      <td>273</td>\n",
              "      <td>0</td>\n",
              "      <td>0.072772</td>\n",
              "      <td>287</td>\n",
              "      <td>52023</td>\n",
              "      <td>632</td>\n",
              "    </tr>\n",
              "  </tbody>\n",
              "</table>\n",
              "</div>\n",
              "      <button class=\"colab-df-convert\" onclick=\"convertToInteractive('df-cc6084c2-9714-445f-a3db-87b1b0b0a07d')\"\n",
              "              title=\"Convert this dataframe to an interactive table.\"\n",
              "              style=\"display:none;\">\n",
              "        \n",
              "  <svg xmlns=\"http://www.w3.org/2000/svg\" height=\"24px\"viewBox=\"0 0 24 24\"\n",
              "       width=\"24px\">\n",
              "    <path d=\"M0 0h24v24H0V0z\" fill=\"none\"/>\n",
              "    <path d=\"M18.56 5.44l.94 2.06.94-2.06 2.06-.94-2.06-.94-.94-2.06-.94 2.06-2.06.94zm-11 1L8.5 8.5l.94-2.06 2.06-.94-2.06-.94L8.5 2.5l-.94 2.06-2.06.94zm10 10l.94 2.06.94-2.06 2.06-.94-2.06-.94-.94-2.06-.94 2.06-2.06.94z\"/><path d=\"M17.41 7.96l-1.37-1.37c-.4-.4-.92-.59-1.43-.59-.52 0-1.04.2-1.43.59L10.3 9.45l-7.72 7.72c-.78.78-.78 2.05 0 2.83L4 21.41c.39.39.9.59 1.41.59.51 0 1.02-.2 1.41-.59l7.78-7.78 2.81-2.81c.8-.78.8-2.07 0-2.86zM5.41 20L4 18.59l7.72-7.72 1.47 1.35L5.41 20z\"/>\n",
              "  </svg>\n",
              "      </button>\n",
              "      \n",
              "  <style>\n",
              "    .colab-df-container {\n",
              "      display:flex;\n",
              "      flex-wrap:wrap;\n",
              "      gap: 12px;\n",
              "    }\n",
              "\n",
              "    .colab-df-convert {\n",
              "      background-color: #E8F0FE;\n",
              "      border: none;\n",
              "      border-radius: 50%;\n",
              "      cursor: pointer;\n",
              "      display: none;\n",
              "      fill: #1967D2;\n",
              "      height: 32px;\n",
              "      padding: 0 0 0 0;\n",
              "      width: 32px;\n",
              "    }\n",
              "\n",
              "    .colab-df-convert:hover {\n",
              "      background-color: #E2EBFA;\n",
              "      box-shadow: 0px 1px 2px rgba(60, 64, 67, 0.3), 0px 1px 3px 1px rgba(60, 64, 67, 0.15);\n",
              "      fill: #174EA6;\n",
              "    }\n",
              "\n",
              "    [theme=dark] .colab-df-convert {\n",
              "      background-color: #3B4455;\n",
              "      fill: #D2E3FC;\n",
              "    }\n",
              "\n",
              "    [theme=dark] .colab-df-convert:hover {\n",
              "      background-color: #434B5C;\n",
              "      box-shadow: 0px 1px 3px 1px rgba(0, 0, 0, 0.15);\n",
              "      filter: drop-shadow(0px 1px 2px rgba(0, 0, 0, 0.3));\n",
              "      fill: #FFFFFF;\n",
              "    }\n",
              "  </style>\n",
              "\n",
              "      <script>\n",
              "        const buttonEl =\n",
              "          document.querySelector('#df-cc6084c2-9714-445f-a3db-87b1b0b0a07d button.colab-df-convert');\n",
              "        buttonEl.style.display =\n",
              "          google.colab.kernel.accessAllowed ? 'block' : 'none';\n",
              "\n",
              "        async function convertToInteractive(key) {\n",
              "          const element = document.querySelector('#df-cc6084c2-9714-445f-a3db-87b1b0b0a07d');\n",
              "          const dataTable =\n",
              "            await google.colab.kernel.invokeFunction('convertToInteractive',\n",
              "                                                     [key], {});\n",
              "          if (!dataTable) return;\n",
              "\n",
              "          const docLinkHtml = 'Like what you see? Visit the ' +\n",
              "            '<a target=\"_blank\" href=https://colab.research.google.com/notebooks/data_table.ipynb>data table notebook</a>'\n",
              "            + ' to learn more about interactive tables.';\n",
              "          element.innerHTML = '';\n",
              "          dataTable['output_type'] = 'display_data';\n",
              "          await google.colab.output.renderOutput(dataTable, element);\n",
              "          const docLink = document.createElement('div');\n",
              "          docLink.innerHTML = docLinkHtml;\n",
              "          element.appendChild(docLink);\n",
              "        }\n",
              "      </script>\n",
              "    </div>\n",
              "  </div>\n",
              "  "
            ]
          },
          "metadata": {},
          "execution_count": 14
        }
      ]
    },
    {
      "cell_type": "code",
      "source": [
        "data1.info()"
      ],
      "metadata": {
        "colab": {
          "base_uri": "https://localhost:8080/"
        },
        "id": "4BS8ldiwY-0I",
        "outputId": "aaa0f845-1a09-44ae-8fcc-1b55def89061"
      },
      "execution_count": null,
      "outputs": [
        {
          "output_type": "stream",
          "name": "stdout",
          "text": [
            "<class 'pandas.core.frame.DataFrame'>\n",
            "RangeIndex: 10000 entries, 0 to 9999\n",
            "Data columns (total 16 columns):\n",
            " #   Column    Non-Null Count  Dtype  \n",
            "---  ------    --------------  -----  \n",
            " 0   ra        10000 non-null  float64\n",
            " 1   dec       10000 non-null  float64\n",
            " 2   u         10000 non-null  float64\n",
            " 3   g         10000 non-null  float64\n",
            " 4   r         10000 non-null  float64\n",
            " 5   i         10000 non-null  float64\n",
            " 6   z         10000 non-null  float64\n",
            " 7   run       10000 non-null  int64  \n",
            " 8   rerun     10000 non-null  int64  \n",
            " 9   camcol    10000 non-null  int64  \n",
            " 10  field     10000 non-null  int64  \n",
            " 11  class     10000 non-null  int64  \n",
            " 12  redshift  10000 non-null  float64\n",
            " 13  plate     10000 non-null  int64  \n",
            " 14  mjd       10000 non-null  int64  \n",
            " 15  fiberid   10000 non-null  int64  \n",
            "dtypes: float64(8), int64(8)\n",
            "memory usage: 1.2 MB\n"
          ]
        }
      ]
    },
    {
      "cell_type": "code",
      "source": [
        "X = data1.drop('class', axis=1)\n",
        "y = data1['class']"
      ],
      "metadata": {
        "id": "t5RA5TnKZQkP"
      },
      "execution_count": null,
      "outputs": []
    },
    {
      "cell_type": "code",
      "source": [
        "from sklearn.preprocessing import StandardScaler\n",
        "scaler = StandardScaler(copy=True , with_mean= True , with_std = True)\n",
        "X= scaler.fit_transform(X)"
      ],
      "metadata": {
        "id": "LdCYS73_ZggK"
      },
      "execution_count": null,
      "outputs": []
    },
    {
      "cell_type": "code",
      "source": [
        "X[:20]"
      ],
      "metadata": {
        "colab": {
          "base_uri": "https://localhost:8080/"
        },
        "id": "F77X3vYDZmcG",
        "outputId": "4b05e1f5-75fb-4102-c1a3-88a71d2ffd65"
      },
      "execution_count": null,
      "outputs": [
        {
          "output_type": "execute_result",
          "data": {
            "text/plain": [
              "array([[ 0.16745842, -0.58492272,  1.03148637, -0.34855938, -0.83728027,\n",
              "        -0.94605772, -0.99534154, -0.83806089,  0.        ,  0.21085172,\n",
              "        -0.21763043, -0.36973112,  1.03148936,  1.30931064,  0.66863177],\n",
              "       [ 0.16886159, -0.58311429,  0.05243046, -0.16653251, -0.15415531,\n",
              "        -0.08264457, -0.02604308, -0.83806089,  0.        ,  0.21085172,\n",
              "        -0.21763043, -0.36984929, -0.63621258, -0.87919741,  0.91101156],\n",
              "       [ 0.17057433, -0.58347525,  0.92156796,  0.86709322,  0.59315368,\n",
              "         0.44120145,  0.31452753, -0.83806089,  0.        ,  0.21085172,\n",
              "        -0.21147922, -0.05302706, -0.65633905, -0.60919097,  0.77527888],\n",
              "       [ 0.17455754, -0.58650069, -1.03063038, -0.81362749, -0.63669227,\n",
              "        -0.52660429, -0.43092107, -0.83806089,  0.        ,  0.21085172,\n",
              "        -0.20532801, -0.36999261,  1.03148936,  1.30931064,  0.76073609],\n",
              "       [ 0.17482457, -0.58441247, -1.29023238, -1.17251944, -0.37676237,\n",
              "        -0.02510121,  0.15827647, -0.83806089,  0.        ,  0.21085172,\n",
              "        -0.20532801, -0.36818949,  1.03148936,  1.30931064,  0.77043128],\n",
              "       [ 0.17406874, -0.58159078,  0.97991837,  1.15913585,  1.2396114 ,\n",
              "         1.25349122,  1.34542376, -0.83806089,  0.        ,  0.21085172,\n",
              "        -0.20532801, -0.36889881, -0.63565351, -0.8454466 ,  1.16793412],\n",
              "       [ 0.17442882, -0.58771882,  0.9218576 ,  0.54793007,  0.24763882,\n",
              "         0.07037522, -0.0442872 , -0.83806089,  0.        ,  0.21085172,\n",
              "        -0.20532801, -0.11185311, -0.65633905, -0.60919097,  0.99826828],\n",
              "       [ 0.17517603, -0.58104423,  0.43515363,  0.50034225,  0.50505868,\n",
              "         0.54578672,  0.53849374, -0.83806089,  0.        ,  0.21085172,\n",
              "        -0.20532801, -0.36889818,  1.03148936,  1.30931064,  0.78497407],\n",
              "       [ 0.17568894, -0.58462313, -0.8607082 , -0.4233206 , -0.15505443,\n",
              "        -0.0401308 ,  0.04415727, -0.83806089,  0.        ,  0.21085172,\n",
              "        -0.1991768 , -0.36947888, -0.63621258, -0.87919741,  1.17278172],\n",
              "       [ 0.17671255, -0.58524271,  0.06412468,  0.36155588,  0.61126719,\n",
              "         0.61244768,  0.66793136, -0.83806089,  0.        ,  0.21085172,\n",
              "        -0.1991768 , -0.26550833, -0.65577999, -0.62441192,  0.22750057],\n",
              "       [ 0.17683178, -0.58308602,  0.81867332,  0.45518723,  0.32002733,\n",
              "         0.29758829,  0.31289013, -0.83806089,  0.        ,  0.21085172,\n",
              "        -0.1991768 , -0.36979707,  1.03148936,  1.30931064,  0.74134571],\n",
              "       [ 0.17905309, -0.58403354,  0.25791803,  0.15434418,  0.09531295,\n",
              "         0.1143867 ,  0.15158558, -0.83806089,  0.        ,  0.21085172,\n",
              "        -0.19302559, -0.3681061 ,  1.03148936,  1.30931064,  0.94009713],\n",
              "       [ 0.179404  , -0.58088408,  1.13821874,  0.86650088,  0.76483872,\n",
              "         0.78139043,  0.80556427, -0.83806089,  0.        ,  0.21085172,\n",
              "        -0.19302559, -0.36956736,  1.03148936,  1.30931064,  0.92555434],\n",
              "       [ 0.18062649, -0.58547992,  1.15921765,  0.37678737,  0.13715012,\n",
              "         0.08511578,  0.06767929, -0.83806089,  0.        ,  0.21085172,\n",
              "        -0.19302559, -0.36968672,  1.03148936,  1.30931064,  0.93524953],\n",
              "       [ 0.18123476, -0.58453441,  0.76913279,  0.18696495, -0.19217122,\n",
              "        -0.38043364, -0.54561378, -0.83806089,  0.        ,  0.21085172,\n",
              "        -0.19302559, -0.18427654, -0.65577999, -0.62441192,  0.17417702],\n",
              "       [ 0.18460582, -0.58026059,  0.14357054,  1.30915544,  1.45732014,\n",
              "         1.51360998,  1.2914644 , -0.83806089,  0.        ,  0.21085172,\n",
              "        -0.18687438,  0.3297998 , -0.65633905, -0.60919097,  1.13400095],\n",
              "       [ 0.18190916, -0.58661793,  0.53127794,  0.76494705,  1.01778171,\n",
              "         1.1465937 ,  1.2341887 , -0.83806089,  0.        ,  0.21085172,\n",
              "        -0.18687438, -0.36916795, -0.63565351, -0.8454466 , -1.54187183],\n",
              "       [ 0.18240867, -0.58061649,  0.72660397,  2.04202274,  2.15158106,\n",
              "         2.21584041,  2.33699748, -0.83806089,  0.        ,  0.21085172,\n",
              "        -0.18687438,  2.66073327, -0.65633905, -0.60919097,  1.11461057],\n",
              "       [ 0.18540578, -0.58577178,  0.51243926,  0.14716211,  0.03033282,\n",
              "         0.02413909,  0.05003362, -0.83806089,  0.        ,  0.21085172,\n",
              "        -0.18072317, -0.36909046, -0.63621258, -0.87919741,  1.33275238],\n",
              "       [ 0.18523939, -0.58156585, -0.96878016, -0.531168  , -0.28296358,\n",
              "        -0.33967158, -0.27939936, -0.83806089,  0.        ,  0.21085172,\n",
              "        -0.18072317, -0.18251527, -0.65633905, -0.60919097,  1.35214276]])"
            ]
          },
          "metadata": {},
          "execution_count": 18
        }
      ]
    },
    {
      "cell_type": "code",
      "source": [
        "X_train, X_test, y_train, y_test = train_test_split(X, y, test_size=0.2, random_state=128)"
      ],
      "metadata": {
        "id": "IiqOtsjcZuPf"
      },
      "execution_count": null,
      "outputs": []
    },
    {
      "cell_type": "code",
      "source": [
        "sns.countplot(x=data1['class'])"
      ],
      "metadata": {
        "colab": {
          "base_uri": "https://localhost:8080/",
          "height": 296
        },
        "id": "kE2iRReOZ0iG",
        "outputId": "807f4214-01bd-4afa-f654-616f777b8ed8"
      },
      "execution_count": null,
      "outputs": [
        {
          "output_type": "execute_result",
          "data": {
            "text/plain": [
              "<matplotlib.axes._subplots.AxesSubplot at 0x7fbfb5a63c10>"
            ]
          },
          "metadata": {},
          "execution_count": 20
        },
        {
          "output_type": "display_data",
          "data": {
            "text/plain": [
              "<Figure size 432x288 with 1 Axes>"
            ],
            "image/png": "[encoded data removed]"
          },
          "metadata": {
            "needs_background": "light"
          }
        }
      ]
    },
    {
      "cell_type": "code",
      "source": [
        "sns.pairplot(data1[['u','g','r','i','z','class']])"
      ],
      "metadata": {
        "colab": {
          "base_uri": "https://localhost:8080/",
          "height": 1000
        },
        "id": "UI4MIDPuZ_6Z",
        "outputId": "9aa9bca7-b94f-4d99-90d6-264c3bde99f4"
      },
      "execution_count": null,
      "outputs": [
        {
          "output_type": "execute_result",
          "data": {
            "text/plain": [
              "<seaborn.axisgrid.PairGrid at 0x7fc01fe49c40>"
            ]
          },
          "metadata": {},
          "execution_count": 21
        },
        {
          "output_type": "display_data",
          "data": {
            "text/plain": [
              "<Figure size 1080x1080 with 42 Axes>"
            ],
            "image/png": "[encoded data removed]"
          },
          "metadata": {
            "needs_background": "light"
          }
        }
      ]
    },
    {
      "cell_type": "markdown",
      "source": [
        "Defining Classifiers "
      ],
      "metadata": {
        "id": "a_9isawBehfB"
      }
    },
    {
      "cell_type": "code",
      "source": [
        "# Decision Tree Classifier\n",
        "dtClassifer = DecisionTreeClassifier(max_leaf_nodes=15,max_depth=3)\n",
        "#------------------------------------------------------------------\n",
        "#Linear Classifiers:\n",
        "# 1- Logistic Regression\n",
        "log_reg = LogisticRegression(solver='lbfgs',class_weight='balanced', max_iter=10000000)\n",
        "LRClassifer = log_reg\n",
        "# # 2-Naive Bayes Classifier\n",
        "#NBClassifer = MultinomialNB()\n",
        "#-------------------------------------------------------------------\n",
        "#Nearest Neighbor Classifier\n",
        "NeNeClassifier = KNeighborsClassifier(n_neighbors=3)\n",
        "#-------------------------------------------------------------------\n",
        "#Support Vector Machines Classifer\n",
        "SVCModel = SVC()"
      ],
      "metadata": {
        "id": "jkDaRYorabD3"
      },
      "execution_count": null,
      "outputs": []
    },
    {
      "cell_type": "code",
      "source": [
        "dtClassifer.fit(X_train, y_train)\n",
        "LRClassifer.fit(X_train, y_train)\n",
        "#NBClassifer.fit(X_train, y_train)\n",
        "NeNeClassifier.fit(X_train, y_train)\n",
        "SVCModel.fit(X_train, y_train)\n"
      ],
      "metadata": {
        "colab": {
          "base_uri": "https://localhost:8080/"
        },
        "id": "IGa_OlZlamh2",
        "outputId": "d6d0059f-b415-4850-ae2a-bcea8a352202"
      },
      "execution_count": null,
      "outputs": [
        {
          "output_type": "execute_result",
          "data": {
            "text/plain": [
              "SVC()"
            ]
          },
          "metadata": {},
          "execution_count": 23
        }
      ]
    },
    {
      "cell_type": "code",
      "source": [
        "y_preds = dtClassifer.predict(X_test)\n",
        "y_predsLR = LRClassifer.predict(X_test)\n",
        "#y_predsNB = NBClassifer.predict(X_test)\n",
        "y_predsNeNe = NeNeClassifier.predict(X_test)\n",
        "y_predsSVC = SVCModel.predict(X_test)"
      ],
      "metadata": {
        "id": "1j03oO4zfOox"
      },
      "execution_count": null,
      "outputs": []
    },
    {
      "cell_type": "code",
      "source": [
        "print(y_preds[:10],'\\n',y_test[:10])\n",
        "print(\"*******************************************************\")\n",
        "print(y_predsLR[:10],'\\n',y_test[:10])\n",
        "print(\"*******************************************************\")\n",
        "#print(y_predsNB[:10],'\\n',y_test[:10])\n",
        "#print(\"*******************************************************\")\n",
        "print(y_predsNeNe[:10],'\\n',y_test[:10])\n",
        "print(\"*******************************************************\")\n",
        "print(y_predsSVC[:10],'\\n',y_test[:10])"
      ],
      "metadata": {
        "colab": {
          "base_uri": "https://localhost:8080/"
        },
        "id": "_-4Dh5ECfWfw",
        "outputId": "a7b3e483-f052-453c-92d6-d1ae5d996083"
      },
      "execution_count": null,
      "outputs": [
        {
          "output_type": "stream",
          "name": "stdout",
          "text": [
            "[2 0 2 2 0 0 2 1 0 0] \n",
            " 7054    2\n",
            "4692    0\n",
            "907     2\n",
            "4498    2\n",
            "9957    0\n",
            "3341    0\n",
            "7152    2\n",
            "1152    1\n",
            "7105    0\n",
            "2066    0\n",
            "Name: class, dtype: int64\n",
            "*******************************************************\n",
            "[2 0 2 2 0 0 2 1 0 0] \n",
            " 7054    2\n",
            "4692    0\n",
            "907     2\n",
            "4498    2\n",
            "9957    0\n",
            "3341    0\n",
            "7152    2\n",
            "1152    1\n",
            "7105    0\n",
            "2066    0\n",
            "Name: class, dtype: int64\n",
            "*******************************************************\n",
            "[2 0 2 2 0 0 2 1 0 0] \n",
            " 7054    2\n",
            "4692    0\n",
            "907     2\n",
            "4498    2\n",
            "9957    0\n",
            "3341    0\n",
            "7152    2\n",
            "1152    1\n",
            "7105    0\n",
            "2066    0\n",
            "Name: class, dtype: int64\n",
            "*******************************************************\n",
            "[0 0 2 2 0 0 2 1 0 0] \n",
            " 7054    2\n",
            "4692    0\n",
            "907     2\n",
            "4498    2\n",
            "9957    0\n",
            "3341    0\n",
            "7152    2\n",
            "1152    1\n",
            "7105    0\n",
            "2066    0\n",
            "Name: class, dtype: int64\n"
          ]
        }
      ]
    },
    {
      "cell_type": "code",
      "source": [
        "print('accuracy_score by Decision Tree Classifier:',accuracy_score(y_true=y_test, y_pred=y_preds))\n",
        "print('accuracy_score by LR Classifier:',accuracy_score(y_true=y_test, y_pred=y_predsLR))\n",
        "#print('accuracy_score by Naive Bayes Classifier:',accuracy_score(y_true=y_test, y_pred=y_predsNB))\n",
        "print('accuracy_score by Nearest Neighbor Classifier:',accuracy_score(y_true=y_test, y_pred=y_predsNeNe))\n",
        "print('accuracy_score by SVM Classifier:',accuracy_score(y_true=y_test, y_pred=y_predsSVC))"
      ],
      "metadata": {
        "colab": {
          "base_uri": "https://localhost:8080/"
        },
        "id": "M7kpcng4gMzU",
        "outputId": "c0bc48f4-bf38-41d2-fe60-d46f6b4e9010"
      },
      "execution_count": null,
      "outputs": [
        {
          "output_type": "stream",
          "name": "stdout",
          "text": [
            "accuracy_score by Decision Tree Classifier: 0.988\n",
            "accuracy_score by LR Classifier: 0.9745\n",
            "accuracy_score by Nearest Neighbor Classifier: 0.916\n",
            "accuracy_score by SVM Classifier: 0.959\n"
          ]
        }
      ]
    },
    {
      "cell_type": "markdown",
      "source": [
        "STACKING Model-1"
      ],
      "metadata": {
        "id": "bhsbDR9bh9Jm"
      }
    },
    {
      "cell_type": "code",
      "source": [
        "from sklearn.ensemble import StackingClassifier\n",
        "\n",
        "\n",
        "estimators  = [\n",
        "    ('LRClassifer',LRClassifer),\n",
        "    ('SVCModel' , SVCModel),\n",
        "    ('NeNeClassifier' , NeNeClassifier)\n",
        "     ]\n",
        "\n",
        "#Building Stack Model\n",
        "\n",
        "stack_model = StackingClassifier(estimators = estimators , final_estimator=LogisticRegression(solver='lbfgs',class_weight='balanced', max_iter=10000000))\n",
        "\n",
        "#Training Stacked Model\n",
        "stack_model.fit(X_train, y_train)\n",
        "\n",
        "#Make Predctions\n",
        "y_train_pred = stack_model.predict(X_train)\n",
        "y_test_pred = stack_model.predict(X_test)\n",
        "\n",
        "#Training set model performance\n",
        "stack_model_test_accuracy1 = accuracy_score(y_train,y_train_pred)\n",
        "f1score_train = f1_score(y_train,y_train_pred, average='weighted')\n",
        "stack_train_recall_score = recall_score(y_train,y_train_pred,average = 'weighted')\n",
        "stack_train_precision = precision_score(y_train,y_train_pred,average = 'weighted')\n",
        "\n",
        "\n",
        "#Testing set model performance\n",
        "stack_model_test_accuracy2 = accuracy_score(y_test,y_test_pred)\n",
        "f1score_test = f1_score(y_test,y_test_pred, average='weighted')\n",
        "stack_test_recall_score = recall_score(y_test,y_test_pred,average = 'weighted')\n",
        "stack_test_precision = precision_score(y_test,y_test_pred,average = 'weighted')\n",
        "\n",
        "#Evaluation Metrics for training set\n",
        "print(\"Accuracy performance for training set:\", stack_model_test_accuracy1)\n",
        "print(\"f1-score for training set:\", f1score_train)\n",
        "print(\"recall score of training set is:\",stack_train_recall_score)\n",
        "print(\"precision score of training set is:\",stack_train_precision)\n",
        "\n",
        "print(\"------------------------------------------------\")\n",
        "\n",
        "#Evaluation Metrics For Testing Set\n",
        "print(\"Accuracy performance for test set:\",stack_model_test_accuracy2 )\n",
        "print(\"f1-score for testing set:\", f1score_test)\n",
        "print(\"recall score of testing set is:\",stack_test_recall_score)\n",
        "print(\"precision score of testing set is:\",stack_test_precision)\n",
        "\n",
        "\n"
      ],
      "metadata": {
        "colab": {
          "base_uri": "https://localhost:8080/"
        },
        "id": "LGFbd7uPgvzi",
        "outputId": "0aab0970-0adf-4124-f945-24c723daed12"
      },
      "execution_count": null,
      "outputs": [
        {
          "output_type": "stream",
          "name": "stdout",
          "text": [
            "Accuracy performance for training set: 0.9765\n",
            "f1-score for training set: 0.9765083683886477\n",
            "recall score of training set is: 0.9765\n",
            "precision score of training set is: 0.9767278925895299\n",
            "------------------------------------------------\n",
            "Accuracy performance for test set: 0.9755\n",
            "f1-score for testing set: 0.9755113193848178\n",
            "recall score of testing set is: 0.9755\n",
            "precision score of testing set is: 0.9757814075887393\n"
          ]
        }
      ]
    },
    {
      "cell_type": "markdown",
      "source": [
        "Defining Further Models for stacking"
      ],
      "metadata": {
        "id": "FYvwTPdL_rR_"
      }
    },
    {
      "cell_type": "markdown",
      "source": [
        "1.)Multi-layer Perceptron classifier"
      ],
      "metadata": {
        "id": "svfNihsgKIgr"
      }
    },
    {
      "cell_type": "code",
      "source": [
        "from sklearn.neural_network import MLPClassifier\n",
        "\n",
        "mlp = MLPClassifier(alpha = 1, max_iter=20000) #Define Classifier\n",
        "mlp.fit(X_train, y_train) #Train Model\n",
        "\n",
        "\n",
        "#Make Predcitions \n",
        "nne_y_pred = mlp.predict(X_train)\n",
        "nne_test_pred = mlp.predict(X_test)\n",
        "\n",
        "#Training Set Performance\n",
        "mlp_train_accuracy = accuracy_score(y_train,nne_y_pred)\n",
        "mlp_train_f1 = f1_score(y_train,nne_y_pred, average = 'weighted')\n",
        "mlp_train_recall_score = recall_score(y_train,nne_y_pred,average = 'weighted')\n",
        "mlp_train_precision = precision_score(y_train,nne_y_pred,average = 'weighted')\n",
        "\n",
        "#Testing Set Performance\n",
        "mlp_test_accuracy = accuracy_score(y_test,nne_test_pred)\n",
        "mlp_test_f1 = f1_score(y_test,nne_test_pred, average = 'weighted')\n",
        "mlp_test_recall_score = recall_score(y_test,nne_test_pred,average = 'weighted')\n",
        "mlp_test_precision = precision_score(y_test,nne_test_pred,average = 'weighted')\n",
        "\n",
        "#Evaluation Metrics of NNE model for Training Set\n",
        "print(\"Accuracy of training set is:\",mlp_train_accuracy)\n",
        "print(\"f1 score of training set is:\",mlp_train_f1)\n",
        "print(\"recall score of training set is:\",mlp_train_recall_score)\n",
        "print(\"precision score of training set is:\",mlp_train_precision)\n",
        "\n",
        "print(\"--------------------------------------------------\")\n",
        "\n",
        "#Evaluation Metrics of NNE model for Testing Set\n",
        "print(\"Accuracy of testing set is:\",mlp_test_accuracy)\n",
        "print(\"f1 score of testing set is:\",mlp_test_f1)\n",
        "print(\"recall score of testing set is:\",mlp_test_recall_score)\n",
        "print(\"precision score of testing set is:\",mlp_test_precision)\n",
        "\n",
        "\n",
        "\n",
        "\n",
        "\n",
        "\n",
        "\n"
      ],
      "metadata": {
        "colab": {
          "base_uri": "https://localhost:8080/"
        },
        "id": "Um21sR9LAY7b",
        "outputId": "f0d63237-f914-4571-9ad0-1d5031001989"
      },
      "execution_count": null,
      "outputs": [
        {
          "output_type": "stream",
          "name": "stdout",
          "text": [
            "Accuracy of training set is: 0.96925\n",
            "f1 score of training set is: 0.9691835298959443\n",
            "recall score of training set is: 0.96925\n",
            "precision score of training set is: 0.9693096054022001\n",
            "--------------------------------------------------\n",
            "Accuracy of testing set is: 0.969\n",
            "f1 score of testing set is: 0.9688952711605354\n",
            "recall score of testing set is: 0.969\n",
            "precision score of testing set is: 0.9691153338773291\n"
          ]
        }
      ]
    },
    {
      "cell_type": "markdown",
      "source": [
        "2.) Random Forest Classifier"
      ],
      "metadata": {
        "id": "XsOBWqK4KLtE"
      }
    },
    {
      "cell_type": "code",
      "source": [
        "from sklearn.ensemble import RandomForestClassifier\n",
        "\n",
        "rf = RandomForestClassifier(n_estimators = 10) #Define Classifier\n",
        "rf.fit(X_train, y_train) #Train Model\n",
        "\n",
        "#Make Predcitions \n",
        "rf_train_pred = rf.predict(X_train)\n",
        "rf_test_pred = rf.predict(X_test)\n",
        "\n",
        "#Training Set Performance\n",
        "rf_train_accuracy = accuracy_score(y_train,rf_train_pred)\n",
        "rf_train_f1 = f1_score(y_train,rf_train_pred, average = 'weighted')\n",
        "rf_train_recall_score = recall_score(y_train,rf_train_pred,average = 'weighted')\n",
        "rf_train_precision = precision_score(y_train,rf_train_pred,average = 'weighted')\n",
        "\n",
        "#Testing Set Performance \n",
        "rf_test_accuracy = accuracy_score(y_test,rf_test_pred)\n",
        "rf_test_f1 = f1_score(y_test,rf_test_pred, average = 'weighted')\n",
        "rf_test_recall_score = recall_score(y_test,rf_test_pred,average = 'weighted')\n",
        "rf_test_precision = precision_score(y_test,rf_test_pred,average = 'weighted')\n",
        "\n",
        "#Evaluation Metrics of NNE model for Training Set\n",
        "print(\"Accuracy of training set is:\",rf_train_accuracy)\n",
        "print(\"f1 score of training set is:\",rf_train_f1)\n",
        "print(\"recall score of training set is:\",rf_train_recall_score)\n",
        "print(\"precision score of training set is:\",rf_train_precision)\n",
        "\n",
        "print(\"--------------------------------------------------\")\n",
        "\n",
        "#Evaluation Metrics of NNE model for Testing Set\n",
        "print(\"Accuracy of testing set is:\",rf_test_accuracy)\n",
        "print(\"f1 score of testing set is:\",rf_test_f1)\n",
        "print(\"recall score of testing set is:\",rf_test_recall_score)\n",
        "print(\"precision score of testing set is:\",rf_test_precision)\n",
        "\n",
        "\n",
        "\n",
        "\n",
        "\n"
      ],
      "metadata": {
        "colab": {
          "base_uri": "https://localhost:8080/"
        },
        "id": "3yR7Hq-cIkFC",
        "outputId": "293ab596-9744-4d4d-ed42-cf063d83c7d7"
      },
      "execution_count": null,
      "outputs": [
        {
          "output_type": "stream",
          "name": "stdout",
          "text": [
            "Accuracy of training set is: 0.9995\n",
            "f1 score of training set is: 0.9994993688748981\n",
            "recall score of training set is: 0.9995\n",
            "precision score of training set is: 0.9995004964010921\n",
            "--------------------------------------------------\n",
            "Accuracy of testing set is: 0.989\n",
            "f1 score of testing set is: 0.9888764528414368\n",
            "recall score of testing set is: 0.989\n",
            "precision score of testing set is: 0.9889337531699071\n"
          ]
        }
      ]
    },
    {
      "cell_type": "markdown",
      "source": [
        "Stacking Model-2"
      ],
      "metadata": {
        "id": "rqzEwt34M_sd"
      }
    },
    {
      "cell_type": "code",
      "source": [
        "estimators  = [\n",
        "    ('SVCModel' , SVCModel),\n",
        "    ('MLPclassifier' , mlp),\n",
        "    ('RFclassifier' , rf)\n",
        "     ]\n",
        "\n",
        "#Building Stack Model\n",
        "\n",
        "stack_model2 = StackingClassifier(estimators = estimators , final_estimator=LogisticRegression(solver='lbfgs',class_weight='balanced', max_iter=10000000))\n",
        "\n",
        "#Training Stacked Model\n",
        "stack_model2.fit(X_train, y_train)\n",
        "\n",
        "#Make Predctions\n",
        "y_train_pred1 = stack_model2.predict(X_train)\n",
        "y_test_pred1 = stack_model2.predict(X_test)\n",
        "\n",
        "#Training set model performance\n",
        "stack_model_test_accuracy3 = accuracy_score(y_train,y_train_pred1)\n",
        "f1score_train3 = f1_score(y_train,y_train_pred1, average='weighted')\n",
        "stack2_train_recall_score = recall_score(y_train,y_train_pred1,average = 'weighted')\n",
        "stack2_train_precision = precision_score(y_train,y_train_pred1,average = 'weighted')\n",
        "\n",
        "\n",
        "#Testing set model performance\n",
        "stack_model_test_accuracy4 = accuracy_score(y_test,y_test_pred1)\n",
        "f1score_test4 = f1_score(y_test,y_test_pred1, average='weighted')\n",
        "stack2_test_recall_score = recall_score(y_test,y_test_pred1,average = 'weighted')\n",
        "stack2_test_precision = precision_score(y_test,y_test_pred1,average = 'weighted')\n",
        "\n",
        "#Evaluation Metrics For Training Sets\n",
        "print(\"Accuracy performance for training set:\", stack_model_test_accuracy3)\n",
        "print(\"f1-score for training set:\", f1score_train3)\n",
        "print(\"recall score of training set is:\",stack2_train_recall_score)\n",
        "print(\"precision score of training set is:\",stack2_train_precision)\n",
        "\n",
        "print(\"------------------------------------------\")\n",
        "\n",
        "#Evaluation Metrics for Testing Sets\n",
        "print(\"Accuracy performance for test set:\",stack_model_test_accuracy4 )\n",
        "print(\"f1-score for testing set:\", f1score_test4)\n",
        "print(\"recall score of testing set is:\",stack2_test_recall_score)\n",
        "print(\"precision score of testing set is:\",stack2_test_precision)"
      ],
      "metadata": {
        "colab": {
          "base_uri": "https://localhost:8080/"
        },
        "id": "xzUxc3kYNCTI",
        "outputId": "30dbfa83-14a1-4b11-b617-fdb6a2adbea1"
      },
      "execution_count": null,
      "outputs": [
        {
          "output_type": "stream",
          "name": "stdout",
          "text": [
            "Accuracy performance for training set: 0.995875\n",
            "f1-score for training set: 0.9958916582742735\n",
            "recall score of training set is: 0.995875\n",
            "precision score of training set is: 0.9959261564457292\n",
            "------------------------------------------\n",
            "Accuracy performance for test set: 0.9895\n",
            "f1-score for testing set: 0.9894384023839984\n",
            "recall score of testing set is: 0.9895\n",
            "precision score of testing set is: 0.9894508002572331\n"
          ]
        }
      ]
    },
    {
      "cell_type": "markdown",
      "source": [
        "CLASSIFICATION REPORTS\n"
      ],
      "metadata": {
        "id": "mRfd20_swSAi"
      }
    },
    {
      "cell_type": "markdown",
      "source": [
        "For Stacked Model-2"
      ],
      "metadata": {
        "id": "2JzDfbG3AXwx"
      }
    },
    {
      "cell_type": "code",
      "source": [
        "from sklearn.metrics import classification_report\n",
        "target_names = ['STARS', 'GALAXIES', 'QUASARS']\n",
        "print(classification_report(y_test, y_test_pred1 , target_names=target_names))\n",
        "\n"
      ],
      "metadata": {
        "id": "T8-Eb9UvwYMP",
        "colab": {
          "base_uri": "https://localhost:8080/"
        },
        "outputId": "3bdedbeb-4b2f-4992-a66d-1e26bb20cdfe"
      },
      "execution_count": null,
      "outputs": [
        {
          "output_type": "stream",
          "name": "stdout",
          "text": [
            "              precision    recall  f1-score   support\n",
            "\n",
            "       STARS       0.99      0.99      0.99       973\n",
            "    GALAXIES       0.98      0.94      0.96       186\n",
            "     QUASARS       0.99      1.00      1.00       841\n",
            "\n",
            "    accuracy                           0.99      2000\n",
            "   macro avg       0.99      0.98      0.98      2000\n",
            "weighted avg       0.99      0.99      0.99      2000\n",
            "\n"
          ]
        }
      ]
    },
    {
      "cell_type": "markdown",
      "source": [
        "For Stacked Model-1"
      ],
      "metadata": {
        "id": "zJvz8WQ6Adi3"
      }
    },
    {
      "cell_type": "code",
      "source": [
        "from sklearn.metrics import classification_report\n",
        "target_names = ['STARS', 'GALAXIES', 'QUASARS']\n",
        "print(classification_report(y_test, y_test_pred , target_names=target_names))\n"
      ],
      "metadata": {
        "colab": {
          "base_uri": "https://localhost:8080/"
        },
        "id": "3pVScLplAkuU",
        "outputId": "c9a2678b-f7c8-4443-83fa-90fbee5e4aa7"
      },
      "execution_count": null,
      "outputs": [
        {
          "output_type": "stream",
          "name": "stdout",
          "text": [
            "              precision    recall  f1-score   support\n",
            "\n",
            "       STARS       0.99      0.97      0.98       973\n",
            "    GALAXIES       0.95      0.97      0.96       186\n",
            "     QUASARS       0.97      0.99      0.98       841\n",
            "\n",
            "    accuracy                           0.98      2000\n",
            "   macro avg       0.97      0.97      0.97      2000\n",
            "weighted avg       0.98      0.98      0.98      2000\n",
            "\n"
          ]
        }
      ]
    },
    {
      "cell_type": "markdown",
      "source": [
        "For Logistic Regression Classifier"
      ],
      "metadata": {
        "id": "eQNzL3hOBEMI"
      }
    },
    {
      "cell_type": "code",
      "source": [
        "from sklearn.metrics import classification_report\n",
        "target_names = ['STARS', 'GALAXIES', 'QUASARS']\n",
        "print(classification_report(y_test, y_predsLR , target_names=target_names))\n"
      ],
      "metadata": {
        "colab": {
          "base_uri": "https://localhost:8080/"
        },
        "id": "gzWF83vfBJwB",
        "outputId": "bf65c924-ba24-4158-e00c-e3c62785b593"
      },
      "execution_count": null,
      "outputs": [
        {
          "output_type": "stream",
          "name": "stdout",
          "text": [
            "              precision    recall  f1-score   support\n",
            "\n",
            "       STARS       0.99      0.96      0.98       973\n",
            "    GALAXIES       0.96      0.96      0.96       186\n",
            "     QUASARS       0.96      0.99      0.98       841\n",
            "\n",
            "    accuracy                           0.97      2000\n",
            "   macro avg       0.97      0.97      0.97      2000\n",
            "weighted avg       0.97      0.97      0.97      2000\n",
            "\n"
          ]
        }
      ]
    },
    {
      "cell_type": "markdown",
      "source": [
        "For Decision Tree Classifier"
      ],
      "metadata": {
        "id": "nb_TE4OfBnWQ"
      }
    },
    {
      "cell_type": "code",
      "source": [
        "from sklearn.metrics import classification_report\n",
        "target_names = ['STARS', 'GALAXIES', 'QUASARS']\n",
        "print(classification_report(y_test, y_preds , target_names=target_names))\n"
      ],
      "metadata": {
        "colab": {
          "base_uri": "https://localhost:8080/"
        },
        "id": "A4yRdgn9Bsdx",
        "outputId": "8ee5de1f-cdfe-4fe9-9acb-f7847c19dbaf"
      },
      "execution_count": null,
      "outputs": [
        {
          "output_type": "stream",
          "name": "stdout",
          "text": [
            "              precision    recall  f1-score   support\n",
            "\n",
            "       STARS       0.98      0.99      0.99       973\n",
            "    GALAXIES       0.97      0.92      0.95       186\n",
            "     QUASARS       1.00      1.00      1.00       841\n",
            "\n",
            "    accuracy                           0.99      2000\n",
            "   macro avg       0.98      0.97      0.98      2000\n",
            "weighted avg       0.99      0.99      0.99      2000\n",
            "\n"
          ]
        }
      ]
    },
    {
      "cell_type": "markdown",
      "source": [
        "For Nearest Neighbour Classifier"
      ],
      "metadata": {
        "id": "aXkW5yX6CBk_"
      }
    },
    {
      "cell_type": "code",
      "source": [
        "from sklearn.metrics import classification_report\n",
        "target_names = ['STARS', 'GALAXIES', 'QUASARS']\n",
        "print(classification_report(y_test, y_predsNeNe , target_names=target_names))\n"
      ],
      "metadata": {
        "colab": {
          "base_uri": "https://localhost:8080/"
        },
        "id": "ics2NrkSCANF",
        "outputId": "38aaaf1b-0785-407a-bedb-d41f8477ce8e"
      },
      "execution_count": null,
      "outputs": [
        {
          "output_type": "stream",
          "name": "stdout",
          "text": [
            "              precision    recall  f1-score   support\n",
            "\n",
            "       STARS       0.89      0.95      0.92       973\n",
            "    GALAXIES       0.97      0.88      0.92       186\n",
            "     QUASARS       0.93      0.89      0.91       841\n",
            "\n",
            "    accuracy                           0.92      2000\n",
            "   macro avg       0.93      0.90      0.92      2000\n",
            "weighted avg       0.92      0.92      0.92      2000\n",
            "\n"
          ]
        }
      ]
    },
    {
      "cell_type": "markdown",
      "source": [
        "For Support Vector Classifier"
      ],
      "metadata": {
        "id": "ktm1Vp3nCT14"
      }
    },
    {
      "cell_type": "code",
      "source": [
        "from sklearn.metrics import classification_report\n",
        "target_names = ['STARS', 'GALAXIES', 'QUASARS']\n",
        "print(classification_report(y_test, y_predsSVC , target_names=target_names))\n"
      ],
      "metadata": {
        "colab": {
          "base_uri": "https://localhost:8080/"
        },
        "id": "0sU2k1myCdW0",
        "outputId": "fb9f1153-34f5-4fc2-d430-d3a19d81f857"
      },
      "execution_count": null,
      "outputs": [
        {
          "output_type": "stream",
          "name": "stdout",
          "text": [
            "              precision    recall  f1-score   support\n",
            "\n",
            "       STARS       0.95      0.97      0.96       973\n",
            "    GALAXIES       0.99      0.92      0.95       186\n",
            "     QUASARS       0.96      0.96      0.96       841\n",
            "\n",
            "    accuracy                           0.96      2000\n",
            "   macro avg       0.97      0.95      0.96      2000\n",
            "weighted avg       0.96      0.96      0.96      2000\n",
            "\n"
          ]
        }
      ]
    },
    {
      "cell_type": "markdown",
      "source": [
        "For Random Forest Classifier"
      ],
      "metadata": {
        "id": "9RsrRFVHC9zi"
      }
    },
    {
      "cell_type": "code",
      "source": [
        "from sklearn.metrics import classification_report\n",
        "target_names = ['STARS', 'GALAXIES', 'QUASARS']\n",
        "print(classification_report(y_test, rf_test_pred , target_names=target_names))\n"
      ],
      "metadata": {
        "colab": {
          "base_uri": "https://localhost:8080/"
        },
        "id": "msquxf9QDFv4",
        "outputId": "3cc39122-1500-40ce-936a-cc0895f485ec"
      },
      "execution_count": null,
      "outputs": [
        {
          "output_type": "stream",
          "name": "stdout",
          "text": [
            "              precision    recall  f1-score   support\n",
            "\n",
            "       STARS       0.99      0.99      0.99       973\n",
            "    GALAXIES       0.98      0.92      0.95       186\n",
            "     QUASARS       1.00      1.00      1.00       841\n",
            "\n",
            "    accuracy                           0.99      2000\n",
            "   macro avg       0.99      0.97      0.98      2000\n",
            "weighted avg       0.99      0.99      0.99      2000\n",
            "\n"
          ]
        }
      ]
    },
    {
      "cell_type": "markdown",
      "source": [
        "For Multilayer Perception Classifier"
      ],
      "metadata": {
        "id": "6YT3ZLu-DgoL"
      }
    },
    {
      "cell_type": "code",
      "source": [
        "from sklearn.metrics import classification_report\n",
        "target_names = ['STARS', 'GALAXIES', 'QUASARS']\n",
        "print(classification_report(y_test, nne_test_pred , target_names=target_names))\n"
      ],
      "metadata": {
        "colab": {
          "base_uri": "https://localhost:8080/"
        },
        "id": "ICzHQm65DdRu",
        "outputId": "4cb5576b-222b-48e0-ceb2-dbb9d87d6d1a"
      },
      "execution_count": null,
      "outputs": [
        {
          "output_type": "stream",
          "name": "stdout",
          "text": [
            "              precision    recall  f1-score   support\n",
            "\n",
            "       STARS       0.97      0.97      0.97       973\n",
            "    GALAXIES       0.98      0.91      0.94       186\n",
            "     QUASARS       0.97      0.98      0.97       841\n",
            "\n",
            "    accuracy                           0.97      2000\n",
            "   macro avg       0.97      0.95      0.96      2000\n",
            "weighted avg       0.97      0.97      0.97      2000\n",
            "\n"
          ]
        }
      ]
    },
    {
      "cell_type": "markdown",
      "source": [
        "Box Plots"
      ],
      "metadata": {
        "id": "qtqkXT2WJto2"
      }
    },
    {
      "cell_type": "code",
      "source": [
        "Models = [\"DecTree\",\"DecTree\",\"DecTree\",\"LogReg\",\"LogReg\",\"LogReg\",\"KNN\",\"KNN\",\"KNN\",\"SVM\",\"SVM\",\"SVM\",\"Stack1\",\"Stack1\",\"Stack1\",\"Stack2\",\"Stack2\",\"Stack2\",\"MLP\",\"MLP\",\"MLP\",\"Randforest\",\"Randforest\",\"Randforest\"]\n",
        "Precision = [0.98,0.97,1.00,0.99,0.96,0.96,0.89,0.97,0.93,0.95,0.99,0.96,0.99,0.95,0.97,0.99,0.98,0.99,0.97,0.98,0.97,0.99,0.98,1.00]\n",
        "Recall = [0.99,0.92,1.00,0.96,0.96,0.99,0.95,0.88,0.89,0.97,0.92,0.96,0.97,0.97,0.99,0.99,0.94,1.00,0.97,0.91,0.98,0.99,0.92,1.00]\n",
        "F1 = [0.99,0.95,1.00,0.99,0.95,1.00,0.92,0.92,0.91,0.96,0.95,0.96,0.96,0.98,0.96,0.99,0.96,1.00,0.97,0.94,0.97,0.99,0.95,1.00]\n",
        "Macro_avg = [0.98,0.97,0.98,0.97,0.97,0.97,0.93,0.90,0.92,0.97,0.95,0.96,0.97,0.97,0.97,0.99,0.98,0.98,0.97,0.95,0.96,0.99,0.97,0.98]\n",
        "Weighted_avg = [0.99,0.99,0.99,0.97,0.97,0.97,0.92,0.92,0.92,0.96,0.96,0.96,0.98,0.98,0.98,0.99,0.99,0.99,0.97,0.97,0.97,0.99,0.99,0.99]\n",
        "\n",
        "Evaluation = pd.DataFrame([Models,Precision,Recall,F1,Macro_avg,Weighted_avg],index = [\"Models\",\"Precision\",\"Recall\",\"F1\",\"Macro_avg\",\"Weighted_avg\"])\n",
        "Evaluation = Evaluation.T\n",
        "Evaluation"
      ],
      "metadata": {
        "colab": {
          "base_uri": "https://localhost:8080/",
          "height": 802
        },
        "id": "CSp6wijJJv7d",
        "outputId": "664595a9-9cad-407a-d66a-9f12c947ec57"
      },
      "execution_count": null,
      "outputs": [
        {
          "output_type": "execute_result",
          "data": {
            "text/plain": [
              "        Models Precision Recall    F1 Macro_avg Weighted_avg\n",
              "0      DecTree      0.98   0.99  0.99      0.98         0.99\n",
              "1      DecTree      0.97   0.92  0.95      0.97         0.99\n",
              "2      DecTree       1.0    1.0   1.0      0.98         0.99\n",
              "3       LogReg      0.99   0.96  0.99      0.97         0.97\n",
              "4       LogReg      0.96   0.96  0.95      0.97         0.97\n",
              "5       LogReg      0.96   0.99   1.0      0.97         0.97\n",
              "6          KNN      0.89   0.95  0.92      0.93         0.92\n",
              "7          KNN      0.97   0.88  0.92       0.9         0.92\n",
              "8          KNN      0.93   0.89  0.91      0.92         0.92\n",
              "9          SVM      0.95   0.97  0.96      0.97         0.96\n",
              "10         SVM      0.99   0.92  0.95      0.95         0.96\n",
              "11         SVM      0.96   0.96  0.96      0.96         0.96\n",
              "12      Stack1      0.99   0.97  0.96      0.97         0.98\n",
              "13      Stack1      0.95   0.97  0.98      0.97         0.98\n",
              "14      Stack1      0.97   0.99  0.96      0.97         0.98\n",
              "15      Stack2      0.99   0.99  0.99      0.99         0.99\n",
              "16      Stack2      0.98   0.94  0.96      0.98         0.99\n",
              "17      Stack2      0.99    1.0   1.0      0.98         0.99\n",
              "18         MLP      0.97   0.97  0.97      0.97         0.97\n",
              "19         MLP      0.98   0.91  0.94      0.95         0.97\n",
              "20         MLP      0.97   0.98  0.97      0.96         0.97\n",
              "21  Randforest      0.99   0.99  0.99      0.99         0.99\n",
              "22  Randforest      0.98   0.92  0.95      0.97         0.99\n",
              "23  Randforest       1.0    1.0   1.0      0.98         0.99"
            ],
            "text/html": [
              "\n",
              "  <div id=\"df-f10cbf45-a7ef-4b12-b760-4defa26ac588\">\n",
              "    <div class=\"colab-df-container\">\n",
              "      <div>\n",
              "<style scoped>\n",
              "    .dataframe tbody tr th:only-of-type {\n",
              "        vertical-align: middle;\n",
              "    }\n",
              "\n",
              "    .dataframe tbody tr th {\n",
              "        vertical-align: top;\n",
              "    }\n",
              "\n",
              "    .dataframe thead th {\n",
              "        text-align: right;\n",
              "    }\n",
              "</style>\n",
              "<table border=\"1\" class=\"dataframe\">\n",
              "  <thead>\n",
              "    <tr style=\"text-align: right;\">\n",
              "      <th></th>\n",
              "      <th>Models</th>\n",
              "      <th>Precision</th>\n",
              "      <th>Recall</th>\n",
              "      <th>F1</th>\n",
              "      <th>Macro_avg</th>\n",
              "      <th>Weighted_avg</th>\n",
              "    </tr>\n",
              "  </thead>\n",
              "  <tbody>\n",
              "    <tr>\n",
              "      <th>0</th>\n",
              "      <td>DecTree</td>\n",
              "      <td>0.98</td>\n",
              "      <td>0.99</td>\n",
              "      <td>0.99</td>\n",
              "      <td>0.98</td>\n",
              "      <td>0.99</td>\n",
              "    </tr>\n",
              "    <tr>\n",
              "      <th>1</th>\n",
              "      <td>DecTree</td>\n",
              "      <td>0.97</td>\n",
              "      <td>0.92</td>\n",
              "      <td>0.95</td>\n",
              "      <td>0.97</td>\n",
              "      <td>0.99</td>\n",
              "    </tr>\n",
              "    <tr>\n",
              "      <th>2</th>\n",
              "      <td>DecTree</td>\n",
              "      <td>1.0</td>\n",
              "      <td>1.0</td>\n",
              "      <td>1.0</td>\n",
              "      <td>0.98</td>\n",
              "      <td>0.99</td>\n",
              "    </tr>\n",
              "    <tr>\n",
              "      <th>3</th>\n",
              "      <td>LogReg</td>\n",
              "      <td>0.99</td>\n",
              "      <td>0.96</td>\n",
              "      <td>0.99</td>\n",
              "      <td>0.97</td>\n",
              "      <td>0.97</td>\n",
              "    </tr>\n",
              "    <tr>\n",
              "      <th>4</th>\n",
              "      <td>LogReg</td>\n",
              "      <td>0.96</td>\n",
              "      <td>0.96</td>\n",
              "      <td>0.95</td>\n",
              "      <td>0.97</td>\n",
              "      <td>0.97</td>\n",
              "    </tr>\n",
              "    <tr>\n",
              "      <th>5</th>\n",
              "      <td>LogReg</td>\n",
              "      <td>0.96</td>\n",
              "      <td>0.99</td>\n",
              "      <td>1.0</td>\n",
              "      <td>0.97</td>\n",
              "      <td>0.97</td>\n",
              "    </tr>\n",
              "    <tr>\n",
              "      <th>6</th>\n",
              "      <td>KNN</td>\n",
              "      <td>0.89</td>\n",
              "      <td>0.95</td>\n",
              "      <td>0.92</td>\n",
              "      <td>0.93</td>\n",
              "      <td>0.92</td>\n",
              "    </tr>\n",
              "    <tr>\n",
              "      <th>7</th>\n",
              "      <td>KNN</td>\n",
              "      <td>0.97</td>\n",
              "      <td>0.88</td>\n",
              "      <td>0.92</td>\n",
              "      <td>0.9</td>\n",
              "      <td>0.92</td>\n",
              "    </tr>\n",
              "    <tr>\n",
              "      <th>8</th>\n",
              "      <td>KNN</td>\n",
              "      <td>0.93</td>\n",
              "      <td>0.89</td>\n",
              "      <td>0.91</td>\n",
              "      <td>0.92</td>\n",
              "      <td>0.92</td>\n",
              "    </tr>\n",
              "    <tr>\n",
              "      <th>9</th>\n",
              "      <td>SVM</td>\n",
              "      <td>0.95</td>\n",
              "      <td>0.97</td>\n",
              "      <td>0.96</td>\n",
              "      <td>0.97</td>\n",
              "      <td>0.96</td>\n",
              "    </tr>\n",
              "    <tr>\n",
              "      <th>10</th>\n",
              "      <td>SVM</td>\n",
              "      <td>0.99</td>\n",
              "      <td>0.92</td>\n",
              "      <td>0.95</td>\n",
              "      <td>0.95</td>\n",
              "      <td>0.96</td>\n",
              "    </tr>\n",
              "    <tr>\n",
              "      <th>11</th>\n",
              "      <td>SVM</td>\n",
              "      <td>0.96</td>\n",
              "      <td>0.96</td>\n",
              "      <td>0.96</td>\n",
              "      <td>0.96</td>\n",
              "      <td>0.96</td>\n",
              "    </tr>\n",
              "    <tr>\n",
              "      <th>12</th>\n",
              "      <td>Stack1</td>\n",
              "      <td>0.99</td>\n",
              "      <td>0.97</td>\n",
              "      <td>0.96</td>\n",
              "      <td>0.97</td>\n",
              "      <td>0.98</td>\n",
              "    </tr>\n",
              "    <tr>\n",
              "      <th>13</th>\n",
              "      <td>Stack1</td>\n",
              "      <td>0.95</td>\n",
              "      <td>0.97</td>\n",
              "      <td>0.98</td>\n",
              "      <td>0.97</td>\n",
              "      <td>0.98</td>\n",
              "    </tr>\n",
              "    <tr>\n",
              "      <th>14</th>\n",
              "      <td>Stack1</td>\n",
              "      <td>0.97</td>\n",
              "      <td>0.99</td>\n",
              "      <td>0.96</td>\n",
              "      <td>0.97</td>\n",
              "      <td>0.98</td>\n",
              "    </tr>\n",
              "    <tr>\n",
              "      <th>15</th>\n",
              "      <td>Stack2</td>\n",
              "      <td>0.99</td>\n",
              "      <td>0.99</td>\n",
              "      <td>0.99</td>\n",
              "      <td>0.99</td>\n",
              "      <td>0.99</td>\n",
              "    </tr>\n",
              "    <tr>\n",
              "      <th>16</th>\n",
              "      <td>Stack2</td>\n",
              "      <td>0.98</td>\n",
              "      <td>0.94</td>\n",
              "      <td>0.96</td>\n",
              "      <td>0.98</td>\n",
              "      <td>0.99</td>\n",
              "    </tr>\n",
              "    <tr>\n",
              "      <th>17</th>\n",
              "      <td>Stack2</td>\n",
              "      <td>0.99</td>\n",
              "      <td>1.0</td>\n",
              "      <td>1.0</td>\n",
              "      <td>0.98</td>\n",
              "      <td>0.99</td>\n",
              "    </tr>\n",
              "    <tr>\n",
              "      <th>18</th>\n",
              "      <td>MLP</td>\n",
              "      <td>0.97</td>\n",
              "      <td>0.97</td>\n",
              "      <td>0.97</td>\n",
              "      <td>0.97</td>\n",
              "      <td>0.97</td>\n",
              "    </tr>\n",
              "    <tr>\n",
              "      <th>19</th>\n",
              "      <td>MLP</td>\n",
              "      <td>0.98</td>\n",
              "      <td>0.91</td>\n",
              "      <td>0.94</td>\n",
              "      <td>0.95</td>\n",
              "      <td>0.97</td>\n",
              "    </tr>\n",
              "    <tr>\n",
              "      <th>20</th>\n",
              "      <td>MLP</td>\n",
              "      <td>0.97</td>\n",
              "      <td>0.98</td>\n",
              "      <td>0.97</td>\n",
              "      <td>0.96</td>\n",
              "      <td>0.97</td>\n",
              "    </tr>\n",
              "    <tr>\n",
              "      <th>21</th>\n",
              "      <td>Randforest</td>\n",
              "      <td>0.99</td>\n",
              "      <td>0.99</td>\n",
              "      <td>0.99</td>\n",
              "      <td>0.99</td>\n",
              "      <td>0.99</td>\n",
              "    </tr>\n",
              "    <tr>\n",
              "      <th>22</th>\n",
              "      <td>Randforest</td>\n",
              "      <td>0.98</td>\n",
              "      <td>0.92</td>\n",
              "      <td>0.95</td>\n",
              "      <td>0.97</td>\n",
              "      <td>0.99</td>\n",
              "    </tr>\n",
              "    <tr>\n",
              "      <th>23</th>\n",
              "      <td>Randforest</td>\n",
              "      <td>1.0</td>\n",
              "      <td>1.0</td>\n",
              "      <td>1.0</td>\n",
              "      <td>0.98</td>\n",
              "      <td>0.99</td>\n",
              "    </tr>\n",
              "  </tbody>\n",
              "</table>\n",
              "</div>\n",
              "      <button class=\"colab-df-convert\" onclick=\"convertToInteractive('df-f10cbf45-a7ef-4b12-b760-4defa26ac588')\"\n",
              "              title=\"Convert this dataframe to an interactive table.\"\n",
              "              style=\"display:none;\">\n",
              "        \n",
              "  <svg xmlns=\"http://www.w3.org/2000/svg\" height=\"24px\"viewBox=\"0 0 24 24\"\n",
              "       width=\"24px\">\n",
              "    <path d=\"M0 0h24v24H0V0z\" fill=\"none\"/>\n",
              "    <path d=\"M18.56 5.44l.94 2.06.94-2.06 2.06-.94-2.06-.94-.94-2.06-.94 2.06-2.06.94zm-11 1L8.5 8.5l.94-2.06 2.06-.94-2.06-.94L8.5 2.5l-.94 2.06-2.06.94zm10 10l.94 2.06.94-2.06 2.06-.94-2.06-.94-.94-2.06-.94 2.06-2.06.94z\"/><path d=\"M17.41 7.96l-1.37-1.37c-.4-.4-.92-.59-1.43-.59-.52 0-1.04.2-1.43.59L10.3 9.45l-7.72 7.72c-.78.78-.78 2.05 0 2.83L4 21.41c.39.39.9.59 1.41.59.51 0 1.02-.2 1.41-.59l7.78-7.78 2.81-2.81c.8-.78.8-2.07 0-2.86zM5.41 20L4 18.59l7.72-7.72 1.47 1.35L5.41 20z\"/>\n",
              "  </svg>\n",
              "      </button>\n",
              "      \n",
              "  <style>\n",
              "    .colab-df-container {\n",
              "      display:flex;\n",
              "      flex-wrap:wrap;\n",
              "      gap: 12px;\n",
              "    }\n",
              "\n",
              "    .colab-df-convert {\n",
              "      background-color: #E8F0FE;\n",
              "      border: none;\n",
              "      border-radius: 50%;\n",
              "      cursor: pointer;\n",
              "      display: none;\n",
              "      fill: #1967D2;\n",
              "      height: 32px;\n",
              "      padding: 0 0 0 0;\n",
              "      width: 32px;\n",
              "    }\n",
              "\n",
              "    .colab-df-convert:hover {\n",
              "      background-color: #E2EBFA;\n",
              "      box-shadow: 0px 1px 2px rgba(60, 64, 67, 0.3), 0px 1px 3px 1px rgba(60, 64, 67, 0.15);\n",
              "      fill: #174EA6;\n",
              "    }\n",
              "\n",
              "    [theme=dark] .colab-df-convert {\n",
              "      background-color: #3B4455;\n",
              "      fill: #D2E3FC;\n",
              "    }\n",
              "\n",
              "    [theme=dark] .colab-df-convert:hover {\n",
              "      background-color: #434B5C;\n",
              "      box-shadow: 0px 1px 3px 1px rgba(0, 0, 0, 0.15);\n",
              "      filter: drop-shadow(0px 1px 2px rgba(0, 0, 0, 0.3));\n",
              "      fill: #FFFFFF;\n",
              "    }\n",
              "  </style>\n",
              "\n",
              "      <script>\n",
              "        const buttonEl =\n",
              "          document.querySelector('#df-f10cbf45-a7ef-4b12-b760-4defa26ac588 button.colab-df-convert');\n",
              "        buttonEl.style.display =\n",
              "          google.colab.kernel.accessAllowed ? 'block' : 'none';\n",
              "\n",
              "        async function convertToInteractive(key) {\n",
              "          const element = document.querySelector('#df-f10cbf45-a7ef-4b12-b760-4defa26ac588');\n",
              "          const dataTable =\n",
              "            await google.colab.kernel.invokeFunction('convertToInteractive',\n",
              "                                                     [key], {});\n",
              "          if (!dataTable) return;\n",
              "\n",
              "          const docLinkHtml = 'Like what you see? Visit the ' +\n",
              "            '<a target=\"_blank\" href=https://colab.research.google.com/notebooks/data_table.ipynb>data table notebook</a>'\n",
              "            + ' to learn more about interactive tables.';\n",
              "          element.innerHTML = '';\n",
              "          dataTable['output_type'] = 'display_data';\n",
              "          await google.colab.output.renderOutput(dataTable, element);\n",
              "          const docLink = document.createElement('div');\n",
              "          docLink.innerHTML = docLinkHtml;\n",
              "          element.appendChild(docLink);\n",
              "        }\n",
              "      </script>\n",
              "    </div>\n",
              "  </div>\n",
              "  "
            ]
          },
          "metadata": {},
          "execution_count": 54
        }
      ]
    },
    {
      "cell_type": "code",
      "source": [
        "sns.boxplot(Models,F1,data=Evaluation)\n",
        "plt.grid()\n",
        "plt.ylabel(\"f1 score\")\n",
        "\n"
      ],
      "metadata": {
        "colab": {
          "base_uri": "https://localhost:8080/",
          "height": 337
        },
        "id": "p5zfFFU9lHUs",
        "outputId": "a5de5d70-302f-481d-f812-0f5e5c4aaf78"
      },
      "execution_count": null,
      "outputs": [
        {
          "output_type": "stream",
          "name": "stderr",
          "text": [
            "/usr/local/lib/python3.8/dist-packages/seaborn/_decorators.py:36: FutureWarning: Pass the following variables as keyword args: x, y. From version 0.12, the only valid positional argument will be `data`, and passing other arguments without an explicit keyword will result in an error or misinterpretation.\n",
            "  warnings.warn(\n"
          ]
        },
        {
          "output_type": "execute_result",
          "data": {
            "text/plain": [
              "Text(0, 0.5, 'f1 score')"
            ]
          },
          "metadata": {},
          "execution_count": 55
        },
        {
          "output_type": "display_data",
          "data": {
            "text/plain": [
              "<Figure size 432x288 with 1 Axes>"
            ],
            "image/png": "[encoded data removed]"
          },
          "metadata": {
            "needs_background": "light"
          }
        }
      ]
    },
    {
      "cell_type": "code",
      "source": [
        "sns.boxplot(Models,Recall,data=Evaluation)\n",
        "plt.grid()\n",
        "plt.ylabel(\"Recall\")"
      ],
      "metadata": {
        "colab": {
          "base_uri": "https://localhost:8080/",
          "height": 337
        },
        "id": "IuB_wZjiomMZ",
        "outputId": "8d0a295c-44e0-4cc5-da9a-bebe84fc0db6"
      },
      "execution_count": null,
      "outputs": [
        {
          "output_type": "stream",
          "name": "stderr",
          "text": [
            "/usr/local/lib/python3.8/dist-packages/seaborn/_decorators.py:36: FutureWarning: Pass the following variables as keyword args: x, y. From version 0.12, the only valid positional argument will be `data`, and passing other arguments without an explicit keyword will result in an error or misinterpretation.\n",
            "  warnings.warn(\n"
          ]
        },
        {
          "output_type": "execute_result",
          "data": {
            "text/plain": [
              "Text(0, 0.5, 'Recall')"
            ]
          },
          "metadata": {},
          "execution_count": 56
        },
        {
          "output_type": "display_data",
          "data": {
            "text/plain": [
              "<Figure size 432x288 with 1 Axes>"
            ],
            "image/png": "[encoded data removed]"
          },
          "metadata": {
            "needs_background": "light"
          }
        }
      ]
    },
    {
      "cell_type": "code",
      "source": [
        "sns.boxplot(Models,Precision,data=Evaluation)\n",
        "plt.grid()\n",
        "plt.ylabel(\"Precision\")"
      ],
      "metadata": {
        "colab": {
          "base_uri": "https://localhost:8080/",
          "height": 337
        },
        "id": "d-Ko649NpQT1",
        "outputId": "a691888e-242c-4b51-fcd7-b3114675d5af"
      },
      "execution_count": null,
      "outputs": [
        {
          "output_type": "stream",
          "name": "stderr",
          "text": [
            "/usr/local/lib/python3.8/dist-packages/seaborn/_decorators.py:36: FutureWarning: Pass the following variables as keyword args: x, y. From version 0.12, the only valid positional argument will be `data`, and passing other arguments without an explicit keyword will result in an error or misinterpretation.\n",
            "  warnings.warn(\n"
          ]
        },
        {
          "output_type": "execute_result",
          "data": {
            "text/plain": [
              "Text(0, 0.5, 'Precision')"
            ]
          },
          "metadata": {},
          "execution_count": 57
        },
        {
          "output_type": "display_data",
          "data": {
            "text/plain": [
              "<Figure size 432x288 with 1 Axes>"
            ],
            "image/png": "[encoded data removed]"
          },
          "metadata": {
            "needs_background": "light"
          }
        }
      ]
    },
    {
      "cell_type": "code",
      "source": [
        "sns.boxplot(Models,Macro_avg,data=Evaluation)\n",
        "plt.grid()\n",
        "plt.ylabel(\"Macro_avg\")"
      ],
      "metadata": {
        "colab": {
          "base_uri": "https://localhost:8080/",
          "height": 337
        },
        "id": "JwlayuLepgXg",
        "outputId": "6e2166ee-e0ea-4e6a-844e-b9d2ece78a50"
      },
      "execution_count": null,
      "outputs": [
        {
          "output_type": "stream",
          "name": "stderr",
          "text": [
            "/usr/local/lib/python3.8/dist-packages/seaborn/_decorators.py:36: FutureWarning: Pass the following variables as keyword args: x, y. From version 0.12, the only valid positional argument will be `data`, and passing other arguments without an explicit keyword will result in an error or misinterpretation.\n",
            "  warnings.warn(\n"
          ]
        },
        {
          "output_type": "execute_result",
          "data": {
            "text/plain": [
              "Text(0, 0.5, 'Macro_avg')"
            ]
          },
          "metadata": {},
          "execution_count": 58
        },
        {
          "output_type": "display_data",
          "data": {
            "text/plain": [
              "<Figure size 432x288 with 1 Axes>"
            ],
            "image/png": "[encoded data removed]"
          },
          "metadata": {
            "needs_background": "light"
          }
        }
      ]
    },
    {
      "cell_type": "code",
      "source": [
        "sns.boxplot(Models,Weighted_avg,data=Evaluation)\n",
        "plt.grid()\n",
        "plt.ylabel(\"Weighted_avg\")"
      ],
      "metadata": {
        "colab": {
          "base_uri": "https://localhost:8080/",
          "height": 337
        },
        "id": "nsNzQ5mqpt5G",
        "outputId": "24b4a6af-5469-4bbb-b85e-b9988915096f"
      },
      "execution_count": null,
      "outputs": [
        {
          "output_type": "stream",
          "name": "stderr",
          "text": [
            "/usr/local/lib/python3.8/dist-packages/seaborn/_decorators.py:36: FutureWarning: Pass the following variables as keyword args: x, y. From version 0.12, the only valid positional argument will be `data`, and passing other arguments without an explicit keyword will result in an error or misinterpretation.\n",
            "  warnings.warn(\n"
          ]
        },
        {
          "output_type": "execute_result",
          "data": {
            "text/plain": [
              "Text(0, 0.5, 'Weighted_avg')"
            ]
          },
          "metadata": {},
          "execution_count": 62
        },
        {
          "output_type": "display_data",
          "data": {
            "text/plain": [
              "<Figure size 432x288 with 1 Axes>"
            ],
            "image/png": "[encoded data removed]"
          },
          "metadata": {
            "needs_background": "light"
          }
        }
      ]
    }
  ]
}